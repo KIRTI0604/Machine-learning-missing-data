{
 "cells": [
  {
   "cell_type": "code",
   "execution_count": 2,
   "metadata": {},
   "outputs": [
    {
     "name": "stdout",
     "output_type": "stream",
     "text": [
      "Predicted: 2\n"
     ]
    },
    {
     "data": {
      "image/png": "[encoded data removed]",
      "text/plain": [
       "<Figure size 432x288 with 1 Axes>"
      ]
     },
     "metadata": {
      "needs_background": "light"
     },
     "output_type": "display_data"
    }
   ],
   "source": [
    "from sklearn import datasets, svm, metrics\n",
    "from sklearn.model_selection import train_test_split\n",
    "import matplotlib.pyplot as plt\n",
    "import numpy as np\n",
    "\n",
    "# The digits dataset\n",
    "digits = datasets.load_digits()\n",
    "n_samples = len(digits.images)\n",
    "data = digits.images.reshape((n_samples, -1))\n",
    "\n",
    "# Create support vector classifier\n",
    "classifier = svm.SVC(gamma=0.001)\n",
    "\n",
    "# Split into train and test subsets (50% each)\n",
    "X_train, X_test, y_train, y_test = train_test_split(\n",
    "    data, digits.target, test_size=0.5, shuffle=False)\n",
    "\n",
    "# Learn the digits on the first half of the digits\n",
    "classifier.fit(X_train, y_train)\n",
    "\n",
    "# test on second half of data\n",
    "n = np.random.randint(int(n_samples/2),n_samples)\n",
    "plt.imshow(digits.images[n], cmap=plt.cm.gray_r, interpolation='nearest')\n",
    "print('Predicted: ' + str(classifier.predict(digits.data[n:n+1])[0]))\n",
    "plt.show()"
   ]
  },
  {
   "cell_type": "code",
   "execution_count": 8,
   "metadata": {},
   "outputs": [
    {
     "name": "stdout",
     "output_type": "stream",
     "text": [
      "Train Classifiers\n",
      "nb time: 0.0\n",
      "lr time: 2.23205\n",
      "sgd time: 0.08151\n",
      "knn time: 0.03334\n",
      "dt time: 0.01799\n",
      "rfm time: 1.23234\n",
      "svm time: 0.12379\n",
      "nn time: 1.19195\n",
      "Test Classifiers\n",
      "nb predicts: 8 time: 0.0\n",
      "lr predicts: 8 time: 0.0\n",
      "sgd predicts: 8 time: 0.0\n",
      "knn predicts: 8 time: 0.0\n",
      "dt predicts: 8 time: 0.0\n",
      "rfm predicts: 8 time: 0.01776\n",
      "svm predicts: 8 time: 0.0\n",
      "nn predicts: 8 time: 0.0\n",
      "Label: 8\n"
     ]
    },
    {
     "data": {
      "image/png": "[encoded data removed]",
      "text/plain": [
       "<Figure size 432x288 with 1 Axes>"
      ]
     },
     "metadata": {
      "needs_background": "light"
     },
     "output_type": "display_data"
    }
   ],
   "source": [
    "from sklearn import datasets, metrics\n",
    "from sklearn.model_selection import train_test_split\n",
    "import matplotlib.pyplot as plt\n",
    "import numpy as np\n",
    "import time\n",
    "\n",
    "# The digits dataset\n",
    "digits = datasets.load_digits()\n",
    "n_samples = len(digits.images)\n",
    "data = digits.images.reshape((n_samples, -1))\n",
    "\n",
    "# Split into train and test subsets (50% each)\n",
    "XA, XB, yA, yB = train_test_split(\n",
    "    data, digits.target, test_size=0.5, shuffle=False)\n",
    "\n",
    "# Logistic Regression\n",
    "from sklearn.linear_model import LogisticRegression\n",
    "lr = LogisticRegression(solver='lbfgs',multi_class='auto',max_iter=2000)\n",
    "\n",
    "# Naïve Bayes\n",
    "from sklearn.naive_bayes import GaussianNB\n",
    "nb = GaussianNB()\n",
    "\n",
    "# Stochastic Gradient Descent\n",
    "from sklearn.linear_model import SGDClassifier\n",
    "sgd = SGDClassifier(loss='modified_huber', shuffle=True,random_state=101,\\\n",
    "                    tol=1e-3,max_iter=1000)\n",
    "\n",
    "# K-Nearest Neighbors\n",
    "from sklearn.neighbors import KNeighborsClassifier\n",
    "knn = KNeighborsClassifier(n_neighbors=10)\n",
    "\n",
    "# Decision Tree\n",
    "from sklearn.tree import DecisionTreeClassifier\n",
    "dtree = DecisionTreeClassifier(max_depth=10,random_state=101,\\\n",
    "                               max_features=None,min_samples_leaf=5)\n",
    "\n",
    "# Random Forest\n",
    "from sklearn.ensemble import RandomForestClassifier\n",
    "rfm = RandomForestClassifier(n_estimators=70,oob_score=True,n_jobs=1,\\\n",
    "                  random_state=101,max_features=None,min_samples_leaf=3)\n",
    "\n",
    "# Support Vector Classifier\n",
    "from sklearn.svm import SVC\n",
    "svm = SVC(gamma='scale', C=1.0, random_state=101)\n",
    "\n",
    "# Neural Network\n",
    "from sklearn.neural_network import MLPClassifier\n",
    "nn = MLPClassifier(solver='lbfgs',alpha=1e-5,max_iter=200,\\\n",
    "                    activation='relu',hidden_layer_sizes=(10,30,10),\\\n",
    "                    random_state=1, shuffle=True)\n",
    "\n",
    "# classification methods\n",
    "m = [nb,lr,sgd,knn,dtree,rfm,svm,nn]\n",
    "s = ['nb','lr','sgd','knn','dt','rfm','svm','nn']\n",
    "\n",
    "# fit classifiers\n",
    "print('Train Classifiers')\n",
    "for i,x in enumerate(m):\n",
    "    st = time.time()\n",
    "    x.fit(XA,yA)\n",
    "    tf = str(round(time.time()-st,5))\n",
    "    print(s[i] + ' time: ' + tf)\n",
    "\n",
    "# test on random number in second half of data\n",
    "n = np.random.randint(int(n_samples/2),n_samples)\n",
    "Xt = digits.data[n:n+1]\n",
    "\n",
    "# test classifiers\n",
    "print('Test Classifiers')\n",
    "for i,x in enumerate(m):\n",
    "    st = time.time()\n",
    "    yt = x.predict(Xt)\n",
    "    tf = str(round(time.time()-st,5))\n",
    "    print(s[i] + ' predicts: ' + str(yt[0]) + ' time: ' + tf)\n",
    "print('Label: ' + str(digits.target[n:n+1][0]))\n",
    "\n",
    "plt.imshow(digits.images[n], cmap=plt.cm.gray_r, interpolation='nearest')\n",
    "plt.show()"
   ]
  },
  {
   "cell_type": "code",
   "execution_count": null,
   "metadata": {},
   "outputs": [],
   "source": []
  },
  {
   "cell_type": "code",
   "execution_count": null,
   "metadata": {},
   "outputs": [],
   "source": []
  }
 ],
 "metadata": {
  "kernelspec": {
   "display_name": "Python 3 (ipykernel)",
   "language": "python",
   "name": "python3"
  },
  "language_info": {
   "codemirror_mode": {
    "name": "ipython",
    "version": 3
   },
   "file_extension": ".py",
   "mimetype": "text/x-python",
   "name": "python",
   "nbconvert_exporter": "python",
   "pygments_lexer": "ipython3",
   "version": "3.8.8"
  }
 },
 "nbformat": 4,
 "nbformat_minor": 4
}
