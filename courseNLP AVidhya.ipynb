{
 "cells": [
  {
   "cell_type": "code",
   "execution_count": 23,
   "metadata": {},
   "outputs": [
    {
     "name": "stdout",
     "output_type": "stream",
     "text": [
      "<re.Match object; span=(0, 5), match='Tiger'>\n"
     ]
    }
   ],
   "source": [
    "import re\n",
    "string=\"Tiger is our national animal\"\n",
    "pattern=\"Tiger\"\n",
    "result=re.match(pattern,string)\n",
    "print(result)  "
   ]
  },
  {
   "cell_type": "code",
   "execution_count": 24,
   "metadata": {},
   "outputs": [
    {
     "data": {
      "text/plain": [
       "<re.Match object; span=(0, 5), match='Tiger'>"
      ]
     },
     "execution_count": 24,
     "metadata": {},
     "output_type": "execute_result"
    }
   ],
   "source": [
    "import re\n",
    "string=\"Tiger is our national animal Tiger has strips\"\n",
    "pattern=\"Tiger\"\n",
    "result=re.search(pattern,string)\n",
    "result"
   ]
  },
  {
   "cell_type": "code",
   "execution_count": 15,
   "metadata": {},
   "outputs": [
    {
     "data": {
      "text/plain": [
       "['23-04-1990', '27-08-2008']"
      ]
     },
     "execution_count": 15,
     "metadata": {},
     "output_type": "execute_result"
    }
   ],
   "source": [
    "import re\n",
    "string=\"Tiger is our national 23-04-1990. animal 27-08-2008 Tiger has strips\"\n",
    "pattern=r'\\d{2}-\\d{2}-\\d{4}'\n",
    "result=re.findall(pattern,string)\n",
    "result"
   ]
  },
  {
   "cell_type": "code",
   "execution_count": 16,
   "metadata": {},
   "outputs": [
    {
     "data": {
      "text/plain": [
       "['Tiger',\n",
       " 'is',\n",
       " 'our',\n",
       " 'national',\n",
       " '23-04-1990.',\n",
       " 'animal',\n",
       " '27-08-2008',\n",
       " 'Tiger',\n",
       " 'has',\n",
       " 'strips']"
      ]
     },
     "execution_count": 16,
     "metadata": {},
     "output_type": "execute_result"
    }
   ],
   "source": [
    "import re\n",
    "string=\"Tiger is our national 23-04-1990. animal 27-08-2008 Tiger has strips\"\n",
    "pattern=r'[;,\\s]'\n",
    "result=re.split(pattern,string)\n",
    "result"
   ]
  },
  {
   "cell_type": "code",
   "execution_count": 18,
   "metadata": {},
   "outputs": [
    {
     "data": {
      "text/plain": [
       "'Tiger is our India 23-04-1990. animal 27-08-2008 Tiger has strips'"
      ]
     },
     "execution_count": 18,
     "metadata": {},
     "output_type": "execute_result"
    }
   ],
   "source": [
    "import re\n",
    "string=\"Tiger is our national 23-04-1990. animal 27-08-2008 Tiger has strips\"\n",
    "pattern=\"national\"\n",
    "replace=\"India\"\n",
    "result=re.sub(pattern,replace,string)\n",
    "result"
   ]
  },
  {
   "cell_type": "code",
   "execution_count": 32,
   "metadata": {},
   "outputs": [
    {
     "data": {
      "text/plain": [
       "['hi',\n",
       " 'dear',\n",
       " 'how',\n",
       " 'are',\n",
       " 'you',\n",
       " '?',\n",
       " 'Hope',\n",
       " 'you',\n",
       " 'and',\n",
       " 'your',\n",
       " 'family',\n",
       " 'is',\n",
       " 'fine',\n",
       " '.',\n",
       " 'lets',\n",
       " 'meet',\n",
       " '.']"
      ]
     },
     "execution_count": 32,
     "metadata": {},
     "output_type": "execute_result"
    }
   ],
   "source": [
    "text=\"hi dear how are you? Hope you and your family is fine. lets meet.\"\n",
    "from nltk.tokenize import sent_tokenize\n",
    "from nltk.tokenize import word_tokenize\n",
    "sent_tokenize(text)\n",
    "word_tokenize(text)"
   ]
  },
  {
   "cell_type": "code",
   "execution_count": 34,
   "metadata": {},
   "outputs": [
    {
     "name": "stdout",
     "output_type": "stream",
     "text": [
      "fooln\n"
     ]
    }
   ],
   "source": [
    "from nltk.stem import PorterStemmer\n",
    "stemmer=PorterStemmer()\n",
    "print(stemmer.stem(\"foolning\"))"
   ]
  },
  {
   "cell_type": "code",
   "execution_count": 41,
   "metadata": {},
   "outputs": [
    {
     "name": "stdout",
     "output_type": "stream",
     "text": [
      "increase\n",
      "run\n"
     ]
    },
    {
     "name": "stderr",
     "output_type": "stream",
     "text": [
      "[nltk_data] Downloading package wordnet to\n",
      "[nltk_data]     C:\\Users\\DELL\\AppData\\Roaming\\nltk_data...\n",
      "[nltk_data]   Package wordnet is already up-to-date!\n"
     ]
    }
   ],
   "source": [
    "from nltk.stem import WordNetLemmatizer \n",
    "import nltk\n",
    "nltk.download('wordnet')\n",
    "lemm=WordNetLemmatizer()\n",
    "print(lemm.lemmatize(\"increases\"))\n",
    "print(lemm.lemmatize(\"running\",pos=\"v\"))"
   ]
  },
  {
   "cell_type": "code",
   "execution_count": 43,
   "metadata": {},
   "outputs": [
    {
     "name": "stderr",
     "output_type": "stream",
     "text": [
      "[nltk_data] Downloading package averaged_perceptron_tagger to\n",
      "[nltk_data]     C:\\Users\\DELL\\AppData\\Roaming\\nltk_data...\n",
      "[nltk_data]   Unzipping taggers\\averaged_perceptron_tagger.zip.\n"
     ]
    },
    {
     "data": {
      "text/plain": [
       "[('hi', 'NN'),\n",
       " ('dear', 'VB'),\n",
       " ('how', 'WRB'),\n",
       " ('are', 'VBP'),\n",
       " ('you', 'PRP'),\n",
       " ('?', '.'),\n",
       " ('Hope', 'VBP'),\n",
       " ('you', 'PRP'),\n",
       " ('and', 'CC'),\n",
       " ('your', 'PRP$'),\n",
       " ('family', 'NN'),\n",
       " ('is', 'VBZ'),\n",
       " ('fine', 'JJ'),\n",
       " ('.', '.'),\n",
       " ('lets', 'VBZ'),\n",
       " ('meet', 'NN'),\n",
       " ('.', '.')]"
      ]
     },
     "execution_count": 43,
     "metadata": {},
     "output_type": "execute_result"
    }
   ],
   "source": [
    "text=\"hi dear how are you? Hope you and your family is fine. lets meet.\"\n",
    "from nltk import pos_tag\n",
    "import nltk\n",
    "nltk.download('averaged_perceptron_tagger')\n",
    "token=word_tokenize(text)\n",
    "pos_tag(token)"
   ]
  },
  {
   "cell_type": "code",
   "execution_count": 45,
   "metadata": {},
   "outputs": [
    {
     "data": {
      "text/plain": [
       "[Synset('computer.n.01'), Synset('calculator.n.01')]"
      ]
     },
     "execution_count": 45,
     "metadata": {},
     "output_type": "execute_result"
    }
   ],
   "source": [
    "from nltk.corpus import wordnet\n",
    "wordnet.synsets(\"computer\")\n",
    " "
   ]
  },
  {
   "cell_type": "code",
   "execution_count": 48,
   "metadata": {},
   "outputs": [
    {
     "name": "stdout",
     "output_type": "stream",
     "text": [
      "('hi', 'dear', 'how')\n",
      "('dear', 'how', 'are')\n",
      "('how', 'are', 'you')\n",
      "('are', 'you', '?')\n",
      "('you', '?', 'Hope')\n",
      "('?', 'Hope', 'you')\n",
      "('Hope', 'you', 'and')\n",
      "('you', 'and', 'your')\n",
      "('and', 'your', 'family')\n",
      "('your', 'family', 'is')\n",
      "('family', 'is', 'fine')\n",
      "('is', 'fine', '.')\n",
      "('fine', '.', 'lets')\n",
      "('.', 'lets', 'meet')\n",
      "('lets', 'meet', '.')\n"
     ]
    }
   ],
   "source": [
    "from nltk import ngrams\n",
    "n=3\n",
    "for gram in ngrams(word_tokenize(text),n):\n",
    "    print(gram)"
   ]
  },
  {
   "cell_type": "code",
   "execution_count": 50,
   "metadata": {},
   "outputs": [
    {
     "name": "stdout",
     "output_type": "stream",
     "text": [
      "rain decreas\n"
     ]
    }
   ],
   "source": [
    "import  nltk\n",
    "stemmer=nltk.PorterStemmer()\n",
    "print(stemmer.stem(\"raining\"),stemmer.stem(\"decreases\"))"
   ]
  },
  {
   "cell_type": "code",
   "execution_count": null,
   "metadata": {},
   "outputs": [],
   "source": [
    "from nltk.stem import PorterStemmer\n",
    "stemmer=PorterStemmer()\n",
    "print(stemmer.stem(\"foolning\"))"
   ]
  }
 ],
 "metadata": {
  "kernelspec": {
   "display_name": "Python 3",
   "language": "python",
   "name": "python3"
  },
  "language_info": {
   "codemirror_mode": {
    "name": "ipython",
    "version": 3
   },
   "file_extension": ".py",
   "mimetype": "text/x-python",
   "name": "python",
   "nbconvert_exporter": "python",
   "pygments_lexer": "ipython3",
   "version": "3.8.8"
  }
 },
 "nbformat": 4,
 "nbformat_minor": 4
}
