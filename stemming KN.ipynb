{
 "cells": [
  {
   "cell_type": "code",
   "execution_count": 10,
   "id": "afa59f83",
   "metadata": {},
   "outputs": [
    {
     "name": "stderr",
     "output_type": "stream",
     "text": [
      "[nltk_data] Downloading package punkt to\n",
      "[nltk_data]     C:\\Users\\DELL\\AppData\\Roaming\\nltk_data...\n",
      "[nltk_data]   Package punkt is already up-to-date!\n"
     ]
    }
   ],
   "source": [
    "import nltk\n",
    "nltk.download('punkt')\n",
    "from nltk.stem import PorterStemmer\n",
    "from nltk.corpus import stopwords\n",
    "para=\"\"\"I would like to ask you, what would you like to be remembered for? You have to evolve \n",
    "yourself and shape your life. Write your dreams down on a piece of paper. That page may be a\n",
    "very important page in the book of human history.The ignited minds of the\n",
    "youth is the most powerful resource on the Earth. I am convinced that the power of the youth,\n",
    "if properly directed, will bring about transformed humanity by meeting its challenges and bring peace and rosperity.It\n",
    "doesn’t matter who you are, if you have a vision and determination to achieve that vision, you \n",
    "will certainly do so.Books become permanent companions. Sometimes, they are born before us; they guide us during our \n",
    "life journey and continue for many generations. \"\"\" \n",
    "sentences=nltk.sent_tokenize(para)\n",
    "stemmer=PorterStemmer()"
   ]
  },
  {
   "cell_type": "code",
   "execution_count": 23,
   "id": "db412228",
   "metadata": {},
   "outputs": [],
   "source": [
    "for i in range(len(sentences)):\n",
    "    words=nltk.word_tokenize(sentences[i])\n",
    "    words=[stemmer.stem(word) for word in words if word not in set(stopwords.words(\"english\"))]\n",
    "    sentences[i]='  '.join(words)"
   ]
  },
  {
   "cell_type": "code",
   "execution_count": 21,
   "id": "0c4d7101",
   "metadata": {},
   "outputs": [
    {
     "data": {
      "text/plain": [
       "['iwouldlikeask , wouldlikerememb ?',\n",
       " 'youevolvshapelif .',\n",
       " 'writedreampiecpap .',\n",
       " 'thatpagemayimportpagebookhumanhistory.thignitmindyouthpowerresourcearth .',\n",
       " 'iconvincpoweryouth , properlidirect , bringtransformhumanmeetchallengbringpeacrosperity.it ’ matter , visiondeterminachievvis , certainliso.bookbecompermancompanion .',\n",
       " 'sometim , bornu ; guiduslifejourneycontinumanigen .']"
      ]
     },
     "execution_count": 21,
     "metadata": {},
     "output_type": "execute_result"
    }
   ],
   "source": [
    "sentences"
   ]
  },
  {
   "cell_type": "code",
   "execution_count": null,
   "id": "1e684530",
   "metadata": {},
   "outputs": [],
   "source": []
  }
 ],
 "metadata": {
  "kernelspec": {
   "display_name": "Python 3",
   "language": "python",
   "name": "python3"
  },
  "language_info": {
   "codemirror_mode": {
    "name": "ipython",
    "version": 3
   },
   "file_extension": ".py",
   "mimetype": "text/x-python",
   "name": "python",
   "nbconvert_exporter": "python",
   "pygments_lexer": "ipython3",
   "version": "3.8.8"
  }
 },
 "nbformat": 4,
 "nbformat_minor": 5
}
