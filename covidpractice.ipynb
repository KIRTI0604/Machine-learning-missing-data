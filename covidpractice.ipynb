{
 "cells": [
  {
   "cell_type": "code",
   "execution_count": 2,
   "metadata": {},
   "outputs": [],
   "source": [
    "import os\n",
    "import pandas as pd\n",
    "import matplotlib.pyplot as plt\n",
    "import seaborn as sns\n",
    "import itertools\n",
    "import collections\n",
    "\n",
    "import tweepy as tw\n",
    "import nltk\n",
    "from nltk.corpus import stopwords\n",
    "import re\n",
    "import networkx\n",
    "\n",
    "import warnings\n",
    "warnings.filterwarnings(\"ignore\")\n",
    "\n",
    "sns.set(font_scale=1.5)\n",
    "sns.set_style(\"whitegrid\")"
   ]
  },
  {
   "cell_type": "code",
   "execution_count": 3,
   "metadata": {},
   "outputs": [],
   "source": [
    "consumer_key=\"AThItYOsXvGxe4GCCAUtutyyd\"\n",
    "consumer_scret=\"EvrYXzKnu9OSmtUKais2uxUag6Cp1zjpXJVpM3sEOVkF38k9yq\"\n",
    "access_token=\"1377948754658009093-aoIkJ39y9nyofErSYekC0t9Jt6h0tB\"\n",
    "access_token_scret=\"LGXVElTiHn7LBlozfYJTyFw9IQrU7OZHgA3NEoAoeQjUA\""
   ]
  },
  {
   "cell_type": "code",
   "execution_count": 4,
   "metadata": {},
   "outputs": [],
   "source": [
    "auth=tw.OAuthHandler(consumer_key,consumer_scret)\n",
    "auth.set_access_token(access_token,access_token_scret)\n",
    "api=tw.API(auth,wait_on_rate_limit=True)"
   ]
  },
  {
   "cell_type": "code",
   "execution_count": null,
   "metadata": {},
   "outputs": [],
   "source": []
  },
  {
   "cell_type": "code",
   "execution_count": 9,
   "metadata": {},
   "outputs": [],
   "source": [
    "search_words=\"covid19\"\n",
    "date_since=\"2020-11-01\""
   ]
  },
  {
   "cell_type": "code",
   "execution_count": 10,
   "metadata": {},
   "outputs": [],
   "source": [
    "tweets=tw.Cursor(api.search,q=search_words,lang=\"en\",since=date_since).items(1000)\n"
   ]
  },
  {
   "cell_type": "code",
   "execution_count": 11,
   "metadata": {
    "scrolled": false
   },
   "outputs": [
    {
     "data": {
      "text/plain": [
       "['RT @AnisPFI: Everyday there is news of aid coming from abroad..the only concern is whether it is reaching to the needy..\\n\\nThe government sh…',\n",
       " 'Under Home Isolation?\\nNo need to feel anxious or depressed. Consult our panel of expert doctors who will talk to yo… https://t.co/WLJLqlBAHQ',\n",
       " \"RT @cheater_hoo: Court : If Delhi government is unable to control Covid19 we'll tell Central government to takeover.\\n\\nLe Modiji: https://t.…\",\n",
       " 'RT @PHE_uk: The Joint Committee on Vaccination and Immunisation (JCVI) has issued advice to the UK government on the use of the #COVID19 Ox…',\n",
       " '#COVID19 curfew to be imposed in #Goa from May 9 to May 23. Essential services including medical supplies allowed.… https://t.co/Sa9lLVwT4e',\n",
       " '🚀Countdown is starting: 1 week to go till precautionary quarantine before our #Polarstern cruise #PS126.Really look… https://t.co/xU5OnG0dVX',\n",
       " 'RT @TompkinsHealth: Updated Table: 6 new positive cases, 11 released, 49 active cases, 3 hospitalized. \\n\\nEveryone ages 16+ can sign up on t…',\n",
       " 'RT @tripura_cmo: To accommodate mild &amp; moderate #COVID19 positive cases,\\nthe ‘Atal Bihari Vajpayee Regional Centre’, Agartala #Tripura is d…',\n",
       " '.@theGFF needs $1.2billion by the end of 2021 to maintain essential services in wake of #COVID19. This funding will… https://t.co/Aih0lLxO2w',\n",
       " 'RT @rishibagree: Indian Council of Medical Research offers indigenously developed Covid19 vaccine Covaxin technology to other Pharma Compan…']"
      ]
     },
     "execution_count": 11,
     "metadata": {},
     "output_type": "execute_result"
    }
   ],
   "source": [
    "all_tweets = [tweet.text for tweet in tweets]\n",
    "\n",
    "all_tweets[:10]"
   ]
  },
  {
   "cell_type": "code",
   "execution_count": 12,
   "metadata": {},
   "outputs": [],
   "source": [
    "new_search_words=search_words+\"-filter:retweets\"\n",
    "date_since=\"2020-11-01\"\n",
    "tweets=tw.Cursor(api.search,q=new_search_words,lang=\"en\",since=date_since).items(1000)"
   ]
  },
  {
   "cell_type": "code",
   "execution_count": 1,
   "metadata": {},
   "outputs": [
    {
     "ename": "NameError",
     "evalue": "name 'tweets' is not defined",
     "output_type": "error",
     "traceback": [
      "\u001b[1;31m---------------------------------------------------------------------------\u001b[0m",
      "\u001b[1;31mNameError\u001b[0m                                 Traceback (most recent call last)",
      "\u001b[1;32m<ipython-input-1-39729cbbdde5>\u001b[0m in \u001b[0;36m<module>\u001b[1;34m\u001b[0m\n\u001b[1;32m----> 1\u001b[1;33m \u001b[0mall_tweets1\u001b[0m \u001b[1;33m=\u001b[0m \u001b[1;33m[\u001b[0m\u001b[0mtweet\u001b[0m\u001b[1;33m.\u001b[0m\u001b[0mtext\u001b[0m \u001b[1;32mfor\u001b[0m \u001b[0mtweet\u001b[0m \u001b[1;32min\u001b[0m \u001b[0mtweets\u001b[0m\u001b[1;33m]\u001b[0m\u001b[1;33m\u001b[0m\u001b[1;33m\u001b[0m\u001b[0m\n\u001b[0m\u001b[0;32m      2\u001b[0m \u001b[1;33m\u001b[0m\u001b[0m\n\u001b[0;32m      3\u001b[0m \u001b[0mall_tweets1\u001b[0m\u001b[1;33m[\u001b[0m\u001b[1;33m:\u001b[0m\u001b[1;36m200\u001b[0m\u001b[1;33m]\u001b[0m\u001b[1;33m\u001b[0m\u001b[1;33m\u001b[0m\u001b[0m\n",
      "\u001b[1;31mNameError\u001b[0m: name 'tweets' is not defined"
     ]
    }
   ],
   "source": [
    "all_tweets1 = [tweet.text for tweet in tweets]\n",
    "\n",
    "all_tweets1[:200]"
   ]
  },
  {
   "cell_type": "code",
   "execution_count": 14,
   "metadata": {},
   "outputs": [
    {
     "name": "stdout",
     "output_type": "stream",
     "text": [
      "dsdssdsds\n"
     ]
    }
   ],
   "source": [
    "def remove_url(txt):\n",
    "    \"\"\"Replace URLs found in a text string with nothing \n",
    "    (i.e. it will remove the URL from the string).\n",
    "\n",
    "    Parameters\n",
    "    ----------\n",
    "    txt : string\n",
    "        A text string that you want to parse and remove urls.\n",
    "\n",
    "    Returns\n",
    "    -------\n",
    "    The same txt string with url's removed.\n",
    "    \"\"\"\n",
    "\n",
    "    return \" \".join(re.sub(\"([^0-9A-Za-z \\t])|(\\w+:\\/\\/\\S+)\", \" \", txt).split())\n",
    "print(\"dsdssdsds\")"
   ]
  },
  {
   "cell_type": "code",
   "execution_count": 15,
   "metadata": {},
   "outputs": [
    {
     "data": {
      "text/plain": [
       "['RT AnisPFI Everyday there is news of aid coming from abroad the only concern is whether it is reaching to the needy The government sh',\n",
       " 'Under Home Isolation No need to feel anxious or depressed Consult our panel of expert doctors who will talk to yo',\n",
       " 'RT cheater hoo Court If Delhi government is unable to control Covid19 we ll tell Central government to takeover Le Modiji',\n",
       " 'RT PHE uk The Joint Committee on Vaccination and Immunisation JCVI has issued advice to the UK government on the use of the COVID19 Ox',\n",
       " 'COVID19 curfew to be imposed in Goa from May 9 to May 23 Essential services including medical supplies allowed',\n",
       " 'Countdown is starting 1 week to go till precautionary quarantine before our Polarstern cruise PS126 Really look',\n",
       " 'RT TompkinsHealth Updated Table 6 new positive cases 11 released 49 active cases 3 hospitalized Everyone ages 16 can sign up on t',\n",
       " 'RT tripura cmo To accommodate mild amp moderate COVID19 positive cases the Atal Bihari Vajpayee Regional Centre Agartala Tripura is d',\n",
       " 'theGFF needs 1 2billion by the end of 2021 to maintain essential services in wake of COVID19 This funding will',\n",
       " 'RT rishibagree Indian Council of Medical Research offers indigenously developed Covid19 vaccine Covaxin technology to other Pharma Compan']"
      ]
     },
     "execution_count": 15,
     "metadata": {},
     "output_type": "execute_result"
    }
   ],
   "source": [
    "all_tweets_no_urls = [remove_url(tweet) for tweet in all_tweets]\n",
    "all_tweets_no_urls[:10]"
   ]
  },
  {
   "cell_type": "code",
   "execution_count": 16,
   "metadata": {},
   "outputs": [
    {
     "data": {
      "text/plain": [
       "[['rt',\n",
       "  'anispfi',\n",
       "  'everyday',\n",
       "  'there',\n",
       "  'is',\n",
       "  'news',\n",
       "  'of',\n",
       "  'aid',\n",
       "  'coming',\n",
       "  'from',\n",
       "  'abroad',\n",
       "  'the',\n",
       "  'only',\n",
       "  'concern',\n",
       "  'is',\n",
       "  'whether',\n",
       "  'it',\n",
       "  'is',\n",
       "  'reaching',\n",
       "  'to',\n",
       "  'the',\n",
       "  'needy',\n",
       "  'the',\n",
       "  'government',\n",
       "  'sh'],\n",
       " ['under',\n",
       "  'home',\n",
       "  'isolation',\n",
       "  'no',\n",
       "  'need',\n",
       "  'to',\n",
       "  'feel',\n",
       "  'anxious',\n",
       "  'or',\n",
       "  'depressed',\n",
       "  'consult',\n",
       "  'our',\n",
       "  'panel',\n",
       "  'of',\n",
       "  'expert',\n",
       "  'doctors',\n",
       "  'who',\n",
       "  'will',\n",
       "  'talk',\n",
       "  'to',\n",
       "  'yo']]"
      ]
     },
     "execution_count": 16,
     "metadata": {},
     "output_type": "execute_result"
    }
   ],
   "source": [
    "words_in_tweet = [tweet.lower().split() for tweet in all_tweets_no_urls]\n",
    "words_in_tweet[:2]"
   ]
  },
  {
   "cell_type": "code",
   "execution_count": 17,
   "metadata": {},
   "outputs": [
    {
     "data": {
      "text/plain": [
       "[('rt', 829),\n",
       " ('covid19', 606),\n",
       " ('the', 587),\n",
       " ('of', 453),\n",
       " ('to', 433),\n",
       " ('in', 312),\n",
       " ('a', 290),\n",
       " ('and', 252),\n",
       " ('is', 176),\n",
       " ('at', 173),\n",
       " ('s', 163),\n",
       " ('blood', 160),\n",
       " ('for', 156),\n",
       " ('need', 146),\n",
       " ('amp', 127)]"
      ]
     },
     "execution_count": 17,
     "metadata": {},
     "output_type": "execute_result"
    }
   ],
   "source": [
    "# List of all words across tweets\n",
    "all_words_no_urls = list(itertools.chain(*words_in_tweet))\n",
    "\n",
    "# Create counter\n",
    "counts_no_urls = collections.Counter(all_words_no_urls)\n",
    "\n",
    "counts_no_urls.most_common(15)"
   ]
  },
  {
   "cell_type": "code",
   "execution_count": 18,
   "metadata": {},
   "outputs": [
    {
     "data": {
      "text/html": [
       "<div>\n",
       "<style scoped>\n",
       "    .dataframe tbody tr th:only-of-type {\n",
       "        vertical-align: middle;\n",
       "    }\n",
       "\n",
       "    .dataframe tbody tr th {\n",
       "        vertical-align: top;\n",
       "    }\n",
       "\n",
       "    .dataframe thead th {\n",
       "        text-align: right;\n",
       "    }\n",
       "</style>\n",
       "<table border=\"1\" class=\"dataframe\">\n",
       "  <thead>\n",
       "    <tr style=\"text-align: right;\">\n",
       "      <th></th>\n",
       "      <th>words</th>\n",
       "      <th>count</th>\n",
       "    </tr>\n",
       "  </thead>\n",
       "  <tbody>\n",
       "    <tr>\n",
       "      <th>0</th>\n",
       "      <td>rt</td>\n",
       "      <td>829</td>\n",
       "    </tr>\n",
       "    <tr>\n",
       "      <th>1</th>\n",
       "      <td>covid19</td>\n",
       "      <td>606</td>\n",
       "    </tr>\n",
       "    <tr>\n",
       "      <th>2</th>\n",
       "      <td>the</td>\n",
       "      <td>587</td>\n",
       "    </tr>\n",
       "    <tr>\n",
       "      <th>3</th>\n",
       "      <td>of</td>\n",
       "      <td>453</td>\n",
       "    </tr>\n",
       "    <tr>\n",
       "      <th>4</th>\n",
       "      <td>to</td>\n",
       "      <td>433</td>\n",
       "    </tr>\n",
       "    <tr>\n",
       "      <th>5</th>\n",
       "      <td>in</td>\n",
       "      <td>312</td>\n",
       "    </tr>\n",
       "    <tr>\n",
       "      <th>6</th>\n",
       "      <td>a</td>\n",
       "      <td>290</td>\n",
       "    </tr>\n",
       "    <tr>\n",
       "      <th>7</th>\n",
       "      <td>and</td>\n",
       "      <td>252</td>\n",
       "    </tr>\n",
       "    <tr>\n",
       "      <th>8</th>\n",
       "      <td>is</td>\n",
       "      <td>176</td>\n",
       "    </tr>\n",
       "    <tr>\n",
       "      <th>9</th>\n",
       "      <td>at</td>\n",
       "      <td>173</td>\n",
       "    </tr>\n",
       "    <tr>\n",
       "      <th>10</th>\n",
       "      <td>s</td>\n",
       "      <td>163</td>\n",
       "    </tr>\n",
       "    <tr>\n",
       "      <th>11</th>\n",
       "      <td>blood</td>\n",
       "      <td>160</td>\n",
       "    </tr>\n",
       "    <tr>\n",
       "      <th>12</th>\n",
       "      <td>for</td>\n",
       "      <td>156</td>\n",
       "    </tr>\n",
       "    <tr>\n",
       "      <th>13</th>\n",
       "      <td>need</td>\n",
       "      <td>146</td>\n",
       "    </tr>\n",
       "    <tr>\n",
       "      <th>14</th>\n",
       "      <td>amp</td>\n",
       "      <td>127</td>\n",
       "    </tr>\n",
       "  </tbody>\n",
       "</table>\n",
       "</div>"
      ],
      "text/plain": [
       "      words  count\n",
       "0        rt    829\n",
       "1   covid19    606\n",
       "2       the    587\n",
       "3        of    453\n",
       "4        to    433\n",
       "5        in    312\n",
       "6         a    290\n",
       "7       and    252\n",
       "8        is    176\n",
       "9        at    173\n",
       "10        s    163\n",
       "11    blood    160\n",
       "12      for    156\n",
       "13     need    146\n",
       "14      amp    127"
      ]
     },
     "execution_count": 18,
     "metadata": {},
     "output_type": "execute_result"
    }
   ],
   "source": [
    "clean_tweets_no_urls = pd.DataFrame(counts_no_urls.most_common(15),\n",
    "                             columns=['words', 'count'])\n",
    "\n",
    "clean_tweets_no_urls.head(15)"
   ]
  },
  {
   "cell_type": "code",
   "execution_count": 19,
   "metadata": {},
   "outputs": [
    {
     "data": {
      "image/png": "[encoded data removed]",
      "text/plain": [
       "<Figure size 576x576 with 1 Axes>"
      ]
     },
     "metadata": {},
     "output_type": "display_data"
    }
   ],
   "source": [
    "fig, ax = plt.subplots(figsize=(8, 8))\n",
    "\n",
    "# Plot horizontal bar graph\n",
    "clean_tweets_no_urls.sort_values(by='count').plot.barh(x='words',\n",
    "                      y='count',\n",
    "                      ax=ax,\n",
    "                      color=\"purple\")\n",
    "\n",
    "ax.set_title(\"Common Words Found in Tweets (Including All Words)\")\n",
    "\n",
    "plt.show()"
   ]
  },
  {
   "cell_type": "code",
   "execution_count": 20,
   "metadata": {},
   "outputs": [
    {
     "name": "stderr",
     "output_type": "stream",
     "text": [
      "[nltk_data] Downloading package stopwords to\n",
      "[nltk_data]     C:\\Users\\DELL\\AppData\\Roaming\\nltk_data...\n",
      "[nltk_data]   Package stopwords is already up-to-date!\n"
     ]
    },
    {
     "data": {
      "text/plain": [
       "True"
      ]
     },
     "execution_count": 20,
     "metadata": {},
     "output_type": "execute_result"
    }
   ],
   "source": [
    "nltk.download('stopwords')"
   ]
  },
  {
   "cell_type": "code",
   "execution_count": 21,
   "metadata": {},
   "outputs": [
    {
     "data": {
      "text/plain": [
       "[\"won't\",\n",
       " 'both',\n",
       " 'once',\n",
       " 'having',\n",
       " 'how',\n",
       " 'where',\n",
       " 'myself',\n",
       " 'doesn',\n",
       " 'which',\n",
       " \"needn't\",\n",
       " 'itself',\n",
       " 'we',\n",
       " 'themselves',\n",
       " 'did',\n",
       " 'above',\n",
       " 'while',\n",
       " 'if',\n",
       " \"hasn't\",\n",
       " \"couldn't\",\n",
       " 'down',\n",
       " 'shouldn',\n",
       " 'below',\n",
       " 'o',\n",
       " 'i',\n",
       " 'has',\n",
       " 'but',\n",
       " 'between',\n",
       " 'ours',\n",
       " 'are',\n",
       " 'each',\n",
       " 'nor',\n",
       " 'hasn',\n",
       " 'against',\n",
       " 'd',\n",
       " \"isn't\",\n",
       " 'yourselves',\n",
       " \"hadn't\",\n",
       " 'at',\n",
       " 'he',\n",
       " \"mightn't\",\n",
       " 'these',\n",
       " 'was',\n",
       " 're',\n",
       " 'of',\n",
       " 'wouldn',\n",
       " 'the',\n",
       " 'for',\n",
       " 'after',\n",
       " 'too',\n",
       " 'other',\n",
       " \"shouldn't\",\n",
       " 'our',\n",
       " 'then',\n",
       " \"weren't\",\n",
       " 'an',\n",
       " 'is',\n",
       " 'himself',\n",
       " 'her',\n",
       " 'mustn',\n",
       " 'y',\n",
       " 'hers',\n",
       " 'and',\n",
       " 'over',\n",
       " \"you're\",\n",
       " 'so',\n",
       " 'aren',\n",
       " 'his',\n",
       " 'haven',\n",
       " 'until',\n",
       " \"wasn't\",\n",
       " 'from',\n",
       " 'own',\n",
       " 'do',\n",
       " 'were',\n",
       " 'now',\n",
       " 'few',\n",
       " 'll',\n",
       " \"don't\",\n",
       " \"shan't\",\n",
       " 'weren',\n",
       " 'those',\n",
       " 'before',\n",
       " 'yours',\n",
       " \"that'll\",\n",
       " 'being',\n",
       " 'him',\n",
       " 'on',\n",
       " 'couldn',\n",
       " \"doesn't\",\n",
       " 'don',\n",
       " 'through',\n",
       " 'off',\n",
       " 'further',\n",
       " 'not',\n",
       " \"mustn't\",\n",
       " 'no',\n",
       " \"she's\",\n",
       " 'such',\n",
       " 'it',\n",
       " 'wasn']"
      ]
     },
     "execution_count": 21,
     "metadata": {},
     "output_type": "execute_result"
    }
   ],
   "source": [
    "stop_words = set(stopwords.words('english'))\n",
    "\n",
    "# View a few words from the set\n",
    "list(stop_words)[0:100]"
   ]
  },
  {
   "cell_type": "code",
   "execution_count": 22,
   "metadata": {},
   "outputs": [
    {
     "data": {
      "text/plain": [
       "['home',\n",
       " 'isolation',\n",
       " 'need',\n",
       " 'feel',\n",
       " 'anxious',\n",
       " 'depressed',\n",
       " 'consult',\n",
       " 'panel',\n",
       " 'expert',\n",
       " 'doctors',\n",
       " 'talk',\n",
       " 'yo']"
      ]
     },
     "execution_count": 22,
     "metadata": {},
     "output_type": "execute_result"
    }
   ],
   "source": [
    "tweets_nsw = [[word for word in tweet_words if not word in stop_words]\n",
    "              for tweet_words in words_in_tweet]\n",
    "\n",
    "tweets_nsw[1]"
   ]
  },
  {
   "cell_type": "code",
   "execution_count": 23,
   "metadata": {},
   "outputs": [
    {
     "data": {
      "text/plain": [
       "[('rt', 829),\n",
       " ('covid19', 606),\n",
       " ('blood', 160),\n",
       " ('need', 146),\n",
       " ('amp', 127),\n",
       " ('positive', 96),\n",
       " ('covid', 93),\n",
       " ('plasma', 77),\n",
       " ('type', 76),\n",
       " ('component', 75),\n",
       " ('blooddonorsin', 73),\n",
       " ('patient', 71),\n",
       " ('cases', 68),\n",
       " ('deaths', 61),\n",
       " ('india', 60)]"
      ]
     },
     "execution_count": 23,
     "metadata": {},
     "output_type": "execute_result"
    }
   ],
   "source": [
    "all_words_nsw = list(itertools.chain(*tweets_nsw))\n",
    "\n",
    "counts_nsw = collections.Counter(all_words_nsw)\n",
    "\n",
    "counts_nsw.most_common(15)\n"
   ]
  },
  {
   "cell_type": "code",
   "execution_count": 24,
   "metadata": {},
   "outputs": [
    {
     "data": {
      "image/png": "[encoded data removed]",
      "text/plain": [
       "<Figure size 288x288 with 1 Axes>"
      ]
     },
     "metadata": {},
     "output_type": "display_data"
    }
   ],
   "source": [
    "clean_tweets_nsw = pd.DataFrame(counts_nsw.most_common(15),\n",
    "                             columns=['words', 'count'])\n",
    "\n",
    "fig, ax = plt.subplots(figsize=(4, 4))\n",
    "\n",
    "# Plot horizontal bar graph\n",
    "clean_tweets_nsw.sort_values(by='count').plot.barh(x='words',\n",
    "                      y='count',\n",
    "                      ax=ax,\n",
    "                      color=\"blue\")\n",
    "\n",
    "ax.set_title(\"Common Words Found in Tweets (Without Stop Words)\")\n",
    "\n",
    "plt.show()"
   ]
  },
  {
   "cell_type": "code",
   "execution_count": null,
   "metadata": {},
   "outputs": [],
   "source": []
  }
 ],
 "metadata": {
  "kernelspec": {
   "display_name": "Python 3",
   "language": "python",
   "name": "python3"
  },
  "language_info": {
   "codemirror_mode": {
    "name": "ipython",
    "version": 3
   },
   "file_extension": ".py",
   "mimetype": "text/x-python",
   "name": "python",
   "nbconvert_exporter": "python",
   "pygments_lexer": "ipython3",
   "version": "3.7.6"
  }
 },
 "nbformat": 4,
 "nbformat_minor": 4
}
