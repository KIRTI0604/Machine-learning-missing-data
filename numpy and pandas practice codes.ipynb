{
 "cells": [
  {
   "cell_type": "code",
   "execution_count": 2,
   "id": "90037d23",
   "metadata": {},
   "outputs": [],
   "source": [
    "import numpy as np\n",
    "np.random.seed(3)\n",
    "n=np.random.randint(0,50,10)\n"
   ]
  },
  {
   "cell_type": "code",
   "execution_count": 3,
   "id": "7c7a7901",
   "metadata": {},
   "outputs": [
    {
     "name": "stdout",
     "output_type": "stream",
     "text": [
      "[42 24  3  8  0 21 19 10 43 41]\n"
     ]
    }
   ],
   "source": [
    "print(n)"
   ]
  },
  {
   "cell_type": "code",
   "execution_count": 4,
   "id": "8c5d5962",
   "metadata": {},
   "outputs": [
    {
     "name": "stdout",
     "output_type": "stream",
     "text": [
      "1.21.5\n"
     ]
    }
   ],
   "source": [
    "print(np.__version__)"
   ]
  },
  {
   "cell_type": "code",
   "execution_count": 5,
   "id": "daa9fb4e",
   "metadata": {},
   "outputs": [],
   "source": [
    "arr=np.array([1,2,5,3,4])  # list as Array"
   ]
  },
  {
   "cell_type": "code",
   "execution_count": 6,
   "id": "5537880d",
   "metadata": {},
   "outputs": [
    {
     "data": {
      "text/plain": [
       "array([1, 2, 5, 3, 4])"
      ]
     },
     "execution_count": 6,
     "metadata": {},
     "output_type": "execute_result"
    }
   ],
   "source": [
    "arr"
   ]
  },
  {
   "cell_type": "code",
   "execution_count": 7,
   "id": "cc4ae676",
   "metadata": {},
   "outputs": [
    {
     "data": {
      "text/plain": [
       "numpy.ndarray"
      ]
     },
     "execution_count": 7,
     "metadata": {},
     "output_type": "execute_result"
    }
   ],
   "source": [
    "type(arr)"
   ]
  },
  {
   "cell_type": "code",
   "execution_count": 8,
   "id": "1fa63790",
   "metadata": {},
   "outputs": [
    {
     "data": {
      "text/plain": [
       "array([11, 21, 15, 13, 14])"
      ]
     },
     "execution_count": 8,
     "metadata": {},
     "output_type": "execute_result"
    }
   ],
   "source": [
    "arr1=np.array((11,21,15,13,14))  # tuple as array\n",
    "arr1"
   ]
  },
  {
   "cell_type": "raw",
   "id": "145d4d10",
   "metadata": {},
   "source": [
    "Dimensions in Arrays"
   ]
  },
  {
   "cell_type": "code",
   "execution_count": 9,
   "id": "cff5cfa2",
   "metadata": {},
   "outputs": [
    {
     "name": "stdout",
     "output_type": "stream",
     "text": [
      "0 d array is : 23\n",
      " Dimension is : 0\n",
      "\n",
      "1 d array is : [22 21 23]\n",
      " Dimension is : 1\n",
      "\n",
      "2 d array is : [[ 1  2  3]\n",
      " [45 56 78]]\n",
      " Dimension is : 2\n",
      "\n",
      "3 d array is : [[[ 1  2  3]\n",
      "  [23  5  6]]\n",
      "\n",
      " [[ 4  5  6]\n",
      "  [45 56 78]]]\n",
      " Dimension is : 3\n"
     ]
    }
   ],
   "source": [
    "# 0 D Array\n",
    "arr0=np.array(23)\n",
    "print(\"0 d array is :\",arr0)\n",
    "print(\" Dimension is :\",arr0.ndim)\n",
    "# 1 D Array\n",
    "arr1=np.array([22,21,23])\n",
    "print(\"\\n1 d array is :\",arr1)\n",
    "print(\" Dimension is :\",arr1.ndim)\n",
    "\n",
    "# 2 D Array\n",
    "arr2=np.array([[1,2,3],[45,56,78]])\n",
    "print(\"\\n2 d array is :\",arr2)\n",
    "print(\" Dimension is :\",arr2.ndim)\n",
    "#3 D Array\n",
    "arr3=np.array([[[1,2,3],[23,5,6]],[[4,5,6],[45,56,78]]])\n",
    "print(\"\\n3 d array is :\",arr3)\n",
    "print(\" Dimension is :\",arr3.ndim)"
   ]
  },
  {
   "cell_type": "code",
   "execution_count": 10,
   "id": "d98cd53a",
   "metadata": {},
   "outputs": [
    {
     "name": "stdout",
     "output_type": "stream",
     "text": [
      "[45 56 78]\n",
      "[1 2 3 4 5 6]\n",
      "[[1]\n",
      " [2]\n",
      " [3]\n",
      " [4]\n",
      " [5]]\n",
      "2\n",
      "4\n",
      "[1 2 3 4 5 6]\n",
      "[1 2 3]\n",
      "[4 5 6]\n",
      "6\n"
     ]
    }
   ],
   "source": [
    "#Accessing an array element\n",
    "print(arr3[1][1])\n",
    "\n",
    "\n",
    "\n",
    "vec_r=np.array([1,2,3,4,5,6])\n",
    "print(vec_r)\n",
    "\n",
    "# an col array\n",
    "vec_c=np.array([[1],[2],[3],[4],[5]])\n",
    "print(vec_c)\n",
    "print(vec_c.ndim)\n",
    "\n",
    "# Extracting elements from array\n",
    "print(vec_r[3])\n",
    "print(vec_r[:])\n",
    "print(vec_r[:3])\n",
    "print(vec_r[3:])\n",
    "\n",
    "\n",
    "print(vec_r[-1])"
   ]
  },
  {
   "cell_type": "code",
   "execution_count": 11,
   "id": "d2cdea1d",
   "metadata": {},
   "outputs": [
    {
     "name": "stdout",
     "output_type": "stream",
     "text": [
      "[[ 1  2  3  4  5]\n",
      " [ 5  6  7  8  9]\n",
      " [ 7  8  9 12 11]]\n",
      "2\n"
     ]
    }
   ],
   "source": [
    "# matrix in numpy\n",
    "mat=np.array([[1,2,3,4,5],[5,6,7,8,9],[7,8,9,12,11]])\n",
    "print(mat)\n",
    "print(mat.ndim)"
   ]
  },
  {
   "cell_type": "code",
   "execution_count": 12,
   "id": "da23ad85",
   "metadata": {},
   "outputs": [
    {
     "name": "stdout",
     "output_type": "stream",
     "text": [
      "int32\n",
      "(3, 5)\n"
     ]
    }
   ],
   "source": [
    "print(mat.dtype)\n",
    "print(mat.shape)"
   ]
  },
  {
   "cell_type": "code",
   "execution_count": 13,
   "id": "25344b9e",
   "metadata": {},
   "outputs": [
    {
     "name": "stdout",
     "output_type": "stream",
     "text": [
      "15\n",
      "[[ 1  2  3]\n",
      " [ 4  5  5]\n",
      " [ 6  7  8]\n",
      " [ 9  7  8]\n",
      " [ 9 12 11]]\n",
      "[[ 1  5  7]\n",
      " [ 2  6  8]\n",
      " [ 3  7  9]\n",
      " [ 4  8 12]\n",
      " [ 5  9 11]]\n"
     ]
    }
   ],
   "source": [
    "print(mat.size)\n",
    "\n",
    "#Reshapes the Matrix in new dimensions\n",
    "print(mat.reshape(5,3))\n",
    "\n",
    "#transpose\n",
    "print(mat.T)"
   ]
  },
  {
   "cell_type": "code",
   "execution_count": 14,
   "id": "dd029463",
   "metadata": {},
   "outputs": [
    {
     "name": "stdout",
     "output_type": "stream",
     "text": [
      "12\n",
      "1\n",
      "[ 7  8  9 12 11]\n",
      "[1 2 3 4 5]\n"
     ]
    }
   ],
   "source": [
    "# Statical functions in numpy\n",
    "print(np.max(mat))\n",
    "print(np.min(mat))\n",
    "\n",
    "\n",
    "print(np.max(mat, axis=0))\n",
    "\n",
    "print(np.min(mat,axis=0))"
   ]
  },
  {
   "cell_type": "code",
   "execution_count": 15,
   "id": "411bc811",
   "metadata": {},
   "outputs": [
    {
     "name": "stdout",
     "output_type": "stream",
     "text": [
      "[ 5  9 12]\n",
      "[1 5 7]\n"
     ]
    }
   ],
   "source": [
    "print(np.max(mat, axis=1))\n",
    "\n",
    "print(np.min(mat,axis=1))"
   ]
  },
  {
   "cell_type": "code",
   "execution_count": 16,
   "id": "80c4fadc",
   "metadata": {},
   "outputs": [
    {
     "name": "stdout",
     "output_type": "stream",
     "text": [
      "6.466666666666667\n"
     ]
    }
   ],
   "source": [
    "print(np.mean(mat))"
   ]
  },
  {
   "cell_type": "code",
   "execution_count": 17,
   "id": "a2f4604c",
   "metadata": {},
   "outputs": [
    {
     "name": "stdout",
     "output_type": "stream",
     "text": [
      "9.448888888888888\n",
      "3.0739045022396008\n",
      "[[1.         1.41421356 1.73205081 2.         2.23606798]\n",
      " [2.23606798 2.44948974 2.64575131 2.82842712 3.        ]\n",
      " [2.64575131 2.82842712 3.         3.46410162 3.31662479]]\n"
     ]
    },
    {
     "data": {
      "text/plain": [
       "[bool, int, float, float, str]"
      ]
     },
     "execution_count": 17,
     "metadata": {},
     "output_type": "execute_result"
    }
   ],
   "source": [
    "print(np.var(mat))\n",
    "\n",
    "print(np.std(mat))\n",
    "print(np.sqrt(mat))\n",
    "\n",
    "import numpy as np\n",
    "B=[True,2,3.8,np.nan,\"false\"]\n",
    "[type(i) for i in B]\n"
   ]
  },
  {
   "cell_type": "raw",
   "id": "e69b6907",
   "metadata": {},
   "source": [
    "PANDAS developed by Wes MsKinney \n",
    "works with related and labeled data\n",
    "axis=1 Column\n",
    "axis=0 is Rows"
   ]
  },
  {
   "cell_type": "code",
   "execution_count": 18,
   "id": "2446b22e",
   "metadata": {},
   "outputs": [
    {
     "name": "stderr",
     "output_type": "stream",
     "text": [
      "C:\\Users\\DELL\\AppData\\Local\\Temp\\ipykernel_6760\\2473821312.py:2: DeprecationWarning: The default dtype for empty Series will be 'object' instead of 'float64' in a future version. Specify a dtype explicitly to silence this warning.\n",
      "  pd.Series()\n"
     ]
    },
    {
     "data": {
      "text/plain": [
       "Series([], dtype: float64)"
      ]
     },
     "execution_count": 18,
     "metadata": {},
     "output_type": "execute_result"
    }
   ],
   "source": [
    "import pandas as pd\n",
    "pd.Series()"
   ]
  },
  {
   "cell_type": "code",
   "execution_count": 19,
   "id": "c7ac9086",
   "metadata": {},
   "outputs": [
    {
     "name": "stdout",
     "output_type": "stream",
     "text": [
      "      0       1      2      3\n",
      "0  anuj  aditya  Reena  Smita\n",
      "1     2       3      4      5\n"
     ]
    }
   ],
   "source": [
    "lst=[['anuj','aditya','Reena','Smita'],[2,3,4,5,]]\n",
    "plst=pd.DataFrame(lst)\n",
    "print(plst)"
   ]
  },
  {
   "cell_type": "code",
   "execution_count": 27,
   "id": "84a9415b",
   "metadata": {},
   "outputs": [
    {
     "name": "stdout",
     "output_type": "stream",
     "text": [
      "     name\n",
      "0    anuj\n",
      "1  aditya\n",
      "2   Reena\n",
      "3   Smita\n"
     ]
    }
   ],
   "source": [
    "# assinging row and column index\n",
    "lst2=['anuj','aditya','Reena','Smita']\n",
    "plst2=pd.DataFrame(lst2,columns=['name'])\n",
    "print(plst2)"
   ]
  },
  {
   "cell_type": "code",
   "execution_count": 28,
   "id": "dfac0b1c",
   "metadata": {},
   "outputs": [
    {
     "name": "stdout",
     "output_type": "stream",
     "text": [
      "    name  age\n",
      "0   Anil   23\n",
      "1  Nisha   24\n",
      "2  ankit   21\n",
      "3  vinit   34\n"
     ]
    }
   ],
   "source": [
    "#creating daframe from multidimentional list\n",
    "\n",
    "mlst=[['Anil',23],['Nisha',24],['ankit',21],['vinit',34]]\n",
    "plst3=pd.DataFrame(mlst,columns=['name', 'age'])\n",
    "print(plst3)"
   ]
  },
  {
   "cell_type": "code",
   "execution_count": 29,
   "id": "0ae1321f",
   "metadata": {},
   "outputs": [
    {
     "name": "stdout",
     "output_type": "stream",
     "text": [
      "    name  age\n",
      "0   Anil   23\n",
      "1  Nisha   24\n",
      "2  ankit   21\n",
      "3  vinit   34\n"
     ]
    }
   ],
   "source": [
    "#creating daframe from tuple\n",
    "mlst=[('Anil',23),('Nisha',24),('ankit',21),('vinit',34)]\n",
    "plst4=pd.DataFrame(mlst,columns=['name', 'age'])\n",
    "print(plst4)"
   ]
  },
  {
   "cell_type": "code",
   "execution_count": 30,
   "id": "b10316a5",
   "metadata": {},
   "outputs": [
    {
     "name": "stdout",
     "output_type": "stream",
     "text": [
      "   sno  rollno  name  age\n",
      "0   11     234  anuj   23\n",
      "1   12     345  Neha   16\n",
      "2   31     567  Anil   34\n"
     ]
    }
   ],
   "source": [
    "#creating daframe from Dictionary\n",
    "mdlst={'sno':[11,12,31],'rollno':[234,345,567],'name':['anuj','Neha','Anil'],'age':[23,16,34]}\n",
    "plst4=pd.DataFrame(mdlst,columns=['sno','rollno','name', 'age'])\n",
    "print(plst4)"
   ]
  },
  {
   "cell_type": "code",
   "execution_count": 31,
   "id": "c7a806ce",
   "metadata": {},
   "outputs": [
    {
     "data": {
      "text/html": [
       "<div>\n",
       "<style scoped>\n",
       "    .dataframe tbody tr th:only-of-type {\n",
       "        vertical-align: middle;\n",
       "    }\n",
       "\n",
       "    .dataframe tbody tr th {\n",
       "        vertical-align: top;\n",
       "    }\n",
       "\n",
       "    .dataframe thead th {\n",
       "        text-align: right;\n",
       "    }\n",
       "</style>\n",
       "<table border=\"1\" class=\"dataframe\">\n",
       "  <thead>\n",
       "    <tr style=\"text-align: right;\">\n",
       "      <th></th>\n",
       "      <th>s1</th>\n",
       "      <th>s2</th>\n",
       "      <th>s3</th>\n",
       "    </tr>\n",
       "  </thead>\n",
       "  <tbody>\n",
       "    <tr>\n",
       "      <th>a</th>\n",
       "      <td>2356</td>\n",
       "      <td>Ansh</td>\n",
       "      <td>Iyear</td>\n",
       "    </tr>\n",
       "    <tr>\n",
       "      <th>b</th>\n",
       "      <td>4567</td>\n",
       "      <td>Kapil</td>\n",
       "      <td>II year</td>\n",
       "    </tr>\n",
       "    <tr>\n",
       "      <th>c</th>\n",
       "      <td>6789</td>\n",
       "      <td>Meena</td>\n",
       "      <td>Iyear</td>\n",
       "    </tr>\n",
       "  </tbody>\n",
       "</table>\n",
       "</div>"
      ],
      "text/plain": [
       "     s1     s2       s3\n",
       "a  2356   Ansh    Iyear\n",
       "b  4567  Kapil  II year\n",
       "c  6789  Meena    Iyear"
      ]
     },
     "execution_count": 31,
     "metadata": {},
     "output_type": "execute_result"
    }
   ],
   "source": [
    "rollno=[2356,4567,6789]\n",
    "student=['Ansh','Kapil','Meena']\n",
    "class1=['Iyear', 'II year','Iyear']\n",
    "dic={'s1':rollno,'s2':student,'s3':class1}\n",
    "pd5=pd.DataFrame(dic,index=['a','b','c'])\n",
    "pd5"
   ]
  },
  {
   "cell_type": "code",
   "execution_count": 32,
   "id": "eff5a518",
   "metadata": {},
   "outputs": [
    {
     "data": {
      "text/html": [
       "<div>\n",
       "<style scoped>\n",
       "    .dataframe tbody tr th:only-of-type {\n",
       "        vertical-align: middle;\n",
       "    }\n",
       "\n",
       "    .dataframe tbody tr th {\n",
       "        vertical-align: top;\n",
       "    }\n",
       "\n",
       "    .dataframe thead th {\n",
       "        text-align: right;\n",
       "    }\n",
       "</style>\n",
       "<table border=\"1\" class=\"dataframe\">\n",
       "  <thead>\n",
       "    <tr style=\"text-align: right;\">\n",
       "      <th></th>\n",
       "      <th>s1</th>\n",
       "      <th>s2</th>\n",
       "    </tr>\n",
       "  </thead>\n",
       "  <tbody>\n",
       "    <tr>\n",
       "      <th>a</th>\n",
       "      <td>2356</td>\n",
       "      <td>Ansh</td>\n",
       "    </tr>\n",
       "    <tr>\n",
       "      <th>b</th>\n",
       "      <td>4567</td>\n",
       "      <td>Kapil</td>\n",
       "    </tr>\n",
       "  </tbody>\n",
       "</table>\n",
       "</div>"
      ],
      "text/plain": [
       "     s1     s2\n",
       "a  2356   Ansh\n",
       "b  4567  Kapil"
      ]
     },
     "execution_count": 32,
     "metadata": {},
     "output_type": "execute_result"
    }
   ],
   "source": [
    "\n",
    "pd5.loc['a':'b','s1':'s2']"
   ]
  },
  {
   "cell_type": "code",
   "execution_count": 33,
   "id": "97d0bfda",
   "metadata": {},
   "outputs": [],
   "source": [
    "import pandas as pd\n",
    "df=pd.read_csv(\"flavors_of_cocoa.csv\")"
   ]
  },
  {
   "cell_type": "code",
   "execution_count": 34,
   "id": "f65d7444",
   "metadata": {},
   "outputs": [
    {
     "data": {
      "text/html": [
       "<div>\n",
       "<style scoped>\n",
       "    .dataframe tbody tr th:only-of-type {\n",
       "        vertical-align: middle;\n",
       "    }\n",
       "\n",
       "    .dataframe tbody tr th {\n",
       "        vertical-align: top;\n",
       "    }\n",
       "\n",
       "    .dataframe thead th {\n",
       "        text-align: right;\n",
       "    }\n",
       "</style>\n",
       "<table border=\"1\" class=\"dataframe\">\n",
       "  <thead>\n",
       "    <tr style=\"text-align: right;\">\n",
       "      <th></th>\n",
       "      <th>Id</th>\n",
       "      <th>Company</th>\n",
       "      <th>Bean Origin</th>\n",
       "      <th>Review Date</th>\n",
       "      <th>Cocoa Percent</th>\n",
       "      <th>Company Location</th>\n",
       "      <th>Rating</th>\n",
       "    </tr>\n",
       "  </thead>\n",
       "  <tbody>\n",
       "    <tr>\n",
       "      <th>0</th>\n",
       "      <td>1</td>\n",
       "      <td>A. Morin</td>\n",
       "      <td>Agua Grande</td>\n",
       "      <td>2016.0</td>\n",
       "      <td>63%</td>\n",
       "      <td>France</td>\n",
       "      <td>3.75</td>\n",
       "    </tr>\n",
       "    <tr>\n",
       "      <th>1</th>\n",
       "      <td>2</td>\n",
       "      <td>A. Morin</td>\n",
       "      <td>Kpime</td>\n",
       "      <td>2015.0</td>\n",
       "      <td>70%</td>\n",
       "      <td>France</td>\n",
       "      <td>2.75</td>\n",
       "    </tr>\n",
       "    <tr>\n",
       "      <th>2</th>\n",
       "      <td>3</td>\n",
       "      <td>A. Morin</td>\n",
       "      <td>Atsane</td>\n",
       "      <td>2015.0</td>\n",
       "      <td>70%</td>\n",
       "      <td>France</td>\n",
       "      <td>3.00</td>\n",
       "    </tr>\n",
       "    <tr>\n",
       "      <th>3</th>\n",
       "      <td>4</td>\n",
       "      <td>A. Morin</td>\n",
       "      <td>Akata</td>\n",
       "      <td>2015.0</td>\n",
       "      <td>70%</td>\n",
       "      <td>France</td>\n",
       "      <td>3.50</td>\n",
       "    </tr>\n",
       "    <tr>\n",
       "      <th>4</th>\n",
       "      <td>5</td>\n",
       "      <td>A. Morin</td>\n",
       "      <td>Quilla</td>\n",
       "      <td>2015.0</td>\n",
       "      <td>70%</td>\n",
       "      <td>France</td>\n",
       "      <td>3.50</td>\n",
       "    </tr>\n",
       "  </tbody>\n",
       "</table>\n",
       "</div>"
      ],
      "text/plain": [
       "   Id   Company  Bean Origin  Review Date Cocoa Percent Company Location  \\\n",
       "0   1  A. Morin  Agua Grande       2016.0           63%           France   \n",
       "1   2  A. Morin        Kpime       2015.0           70%           France   \n",
       "2   3  A. Morin       Atsane       2015.0           70%           France   \n",
       "3   4  A. Morin        Akata       2015.0           70%           France   \n",
       "4   5  A. Morin       Quilla       2015.0           70%           France   \n",
       "\n",
       "   Rating  \n",
       "0    3.75  \n",
       "1    2.75  \n",
       "2    3.00  \n",
       "3    3.50  \n",
       "4    3.50  "
      ]
     },
     "execution_count": 34,
     "metadata": {},
     "output_type": "execute_result"
    }
   ],
   "source": [
    "df.head()"
   ]
  },
  {
   "cell_type": "code",
   "execution_count": 35,
   "id": "8d463033",
   "metadata": {},
   "outputs": [
    {
     "data": {
      "text/html": [
       "<div>\n",
       "<style scoped>\n",
       "    .dataframe tbody tr th:only-of-type {\n",
       "        vertical-align: middle;\n",
       "    }\n",
       "\n",
       "    .dataframe tbody tr th {\n",
       "        vertical-align: top;\n",
       "    }\n",
       "\n",
       "    .dataframe thead th {\n",
       "        text-align: right;\n",
       "    }\n",
       "</style>\n",
       "<table border=\"1\" class=\"dataframe\">\n",
       "  <thead>\n",
       "    <tr style=\"text-align: right;\">\n",
       "      <th></th>\n",
       "      <th>Company</th>\n",
       "    </tr>\n",
       "  </thead>\n",
       "  <tbody>\n",
       "    <tr>\n",
       "      <th>0</th>\n",
       "      <td>A. Morin</td>\n",
       "    </tr>\n",
       "    <tr>\n",
       "      <th>1</th>\n",
       "      <td>A. Morin</td>\n",
       "    </tr>\n",
       "    <tr>\n",
       "      <th>2</th>\n",
       "      <td>A. Morin</td>\n",
       "    </tr>\n",
       "    <tr>\n",
       "      <th>3</th>\n",
       "      <td>A. Morin</td>\n",
       "    </tr>\n",
       "    <tr>\n",
       "      <th>4</th>\n",
       "      <td>A. Morin</td>\n",
       "    </tr>\n",
       "    <tr>\n",
       "      <th>...</th>\n",
       "      <td>...</td>\n",
       "    </tr>\n",
       "    <tr>\n",
       "      <th>1790</th>\n",
       "      <td>Zotter</td>\n",
       "    </tr>\n",
       "    <tr>\n",
       "      <th>1791</th>\n",
       "      <td>Zotter</td>\n",
       "    </tr>\n",
       "    <tr>\n",
       "      <th>1792</th>\n",
       "      <td>Zotter</td>\n",
       "    </tr>\n",
       "    <tr>\n",
       "      <th>1793</th>\n",
       "      <td>Zotter</td>\n",
       "    </tr>\n",
       "    <tr>\n",
       "      <th>1794</th>\n",
       "      <td>Zotter</td>\n",
       "    </tr>\n",
       "  </tbody>\n",
       "</table>\n",
       "<p>1795 rows × 1 columns</p>\n",
       "</div>"
      ],
      "text/plain": [
       "       Company\n",
       "0     A. Morin\n",
       "1     A. Morin\n",
       "2     A. Morin\n",
       "3     A. Morin\n",
       "4     A. Morin\n",
       "...        ...\n",
       "1790    Zotter\n",
       "1791    Zotter\n",
       "1792    Zotter\n",
       "1793    Zotter\n",
       "1794    Zotter\n",
       "\n",
       "[1795 rows x 1 columns]"
      ]
     },
     "execution_count": 35,
     "metadata": {},
     "output_type": "execute_result"
    }
   ],
   "source": [
    "df1=df[['Company']]\n",
    "df1"
   ]
  },
  {
   "cell_type": "code",
   "execution_count": 36,
   "id": "6894fca9",
   "metadata": {},
   "outputs": [
    {
     "data": {
      "text/html": [
       "<div>\n",
       "<style scoped>\n",
       "    .dataframe tbody tr th:only-of-type {\n",
       "        vertical-align: middle;\n",
       "    }\n",
       "\n",
       "    .dataframe tbody tr th {\n",
       "        vertical-align: top;\n",
       "    }\n",
       "\n",
       "    .dataframe thead th {\n",
       "        text-align: right;\n",
       "    }\n",
       "</style>\n",
       "<table border=\"1\" class=\"dataframe\">\n",
       "  <thead>\n",
       "    <tr style=\"text-align: right;\">\n",
       "      <th></th>\n",
       "      <th>Id</th>\n",
       "      <th>Review Date</th>\n",
       "      <th>Rating</th>\n",
       "    </tr>\n",
       "  </thead>\n",
       "  <tbody>\n",
       "    <tr>\n",
       "      <th>count</th>\n",
       "      <td>1795.000000</td>\n",
       "      <td>1791.000000</td>\n",
       "      <td>1795.000000</td>\n",
       "    </tr>\n",
       "    <tr>\n",
       "      <th>mean</th>\n",
       "      <td>898.000000</td>\n",
       "      <td>2012.321608</td>\n",
       "      <td>3.185933</td>\n",
       "    </tr>\n",
       "    <tr>\n",
       "      <th>std</th>\n",
       "      <td>518.316184</td>\n",
       "      <td>2.928835</td>\n",
       "      <td>0.478062</td>\n",
       "    </tr>\n",
       "    <tr>\n",
       "      <th>min</th>\n",
       "      <td>1.000000</td>\n",
       "      <td>2006.000000</td>\n",
       "      <td>1.000000</td>\n",
       "    </tr>\n",
       "    <tr>\n",
       "      <th>25%</th>\n",
       "      <td>449.500000</td>\n",
       "      <td>2010.000000</td>\n",
       "      <td>2.875000</td>\n",
       "    </tr>\n",
       "    <tr>\n",
       "      <th>50%</th>\n",
       "      <td>898.000000</td>\n",
       "      <td>2013.000000</td>\n",
       "      <td>3.250000</td>\n",
       "    </tr>\n",
       "    <tr>\n",
       "      <th>75%</th>\n",
       "      <td>1346.500000</td>\n",
       "      <td>2015.000000</td>\n",
       "      <td>3.500000</td>\n",
       "    </tr>\n",
       "    <tr>\n",
       "      <th>max</th>\n",
       "      <td>1795.000000</td>\n",
       "      <td>2017.000000</td>\n",
       "      <td>5.000000</td>\n",
       "    </tr>\n",
       "  </tbody>\n",
       "</table>\n",
       "</div>"
      ],
      "text/plain": [
       "                Id  Review Date       Rating\n",
       "count  1795.000000  1791.000000  1795.000000\n",
       "mean    898.000000  2012.321608     3.185933\n",
       "std     518.316184     2.928835     0.478062\n",
       "min       1.000000  2006.000000     1.000000\n",
       "25%     449.500000  2010.000000     2.875000\n",
       "50%     898.000000  2013.000000     3.250000\n",
       "75%    1346.500000  2015.000000     3.500000\n",
       "max    1795.000000  2017.000000     5.000000"
      ]
     },
     "execution_count": 36,
     "metadata": {},
     "output_type": "execute_result"
    }
   ],
   "source": [
    "\n",
    "# values for numeric data\n",
    "df.describe()"
   ]
  },
  {
   "cell_type": "code",
   "execution_count": 37,
   "id": "0b8a4c8e",
   "metadata": {},
   "outputs": [
    {
     "name": "stdout",
     "output_type": "stream",
     "text": [
      "Company Location\n",
      "Amsterdam              4\n",
      "Argentina              9\n",
      "Australia             49\n",
      "Austria               26\n",
      "Belgium               40\n",
      "Bolivia                2\n",
      "Brazil                17\n",
      "Canada               125\n",
      "Chile                  2\n",
      "Colombia              23\n",
      "Costa Rica             9\n",
      "Czech Republic         1\n",
      "Denmark               15\n",
      "Domincan Republic      5\n",
      "Ecuador               54\n",
      "Eucador                1\n",
      "Fiji                   4\n",
      "Finland                2\n",
      "France               156\n",
      "Germany               35\n",
      "Ghana                  1\n",
      "Grenada                3\n",
      "Guatemala             10\n",
      "Honduras               6\n",
      "Hungary               22\n",
      "Iceland                3\n",
      "India                  1\n",
      "Ireland                4\n",
      "Israel                 9\n",
      "Italy                 63\n",
      "Japan                 17\n",
      "Lithuania              6\n",
      "Madagascar            17\n",
      "Martinique             1\n",
      "Mexico                 4\n",
      "Netherlands            4\n",
      "New Zealand           17\n",
      "Niacragua              1\n",
      "Nicaragua              5\n",
      "Peru                  17\n",
      "Philippines            1\n",
      "Poland                 8\n",
      "Portugal               3\n",
      "Puerto Rico            4\n",
      "Russia                 1\n",
      "Sao Tome               4\n",
      "Scotland              10\n",
      "Singapore              3\n",
      "South Africa           3\n",
      "South Korea            5\n",
      "Spain                 25\n",
      "St. Lucia              2\n",
      "Suriname               1\n",
      "Sweden                 5\n",
      "Switzerland           38\n",
      "U.K.                  96\n",
      "U.S.A.               764\n",
      "Venezuela             20\n",
      "Vietnam               11\n",
      "Wales                  1\n",
      "dtype: int64\n"
     ]
    }
   ],
   "source": [
    "# class distribution\n",
    "print(df.groupby('Company Location').size())"
   ]
  },
  {
   "cell_type": "code",
   "execution_count": 38,
   "id": "45112998",
   "metadata": {},
   "outputs": [
    {
     "name": "stdout",
     "output_type": "stream",
     "text": [
      "<class 'pandas.core.frame.DataFrame'>\n",
      "RangeIndex: 1795 entries, 0 to 1794\n",
      "Data columns (total 7 columns):\n",
      " #   Column            Non-Null Count  Dtype  \n",
      "---  ------            --------------  -----  \n",
      " 0   Id                1795 non-null   int64  \n",
      " 1   Company           1795 non-null   object \n",
      " 2   Bean Origin       1795 non-null   object \n",
      " 3   Review Date       1791 non-null   float64\n",
      " 4   Cocoa Percent     1795 non-null   object \n",
      " 5   Company Location  1795 non-null   object \n",
      " 6   Rating            1795 non-null   float64\n",
      "dtypes: float64(2), int64(1), object(4)\n",
      "memory usage: 98.3+ KB\n"
     ]
    }
   ],
   "source": [
    "df.info()"
   ]
  },
  {
   "cell_type": "code",
   "execution_count": 39,
   "id": "4cf3001f",
   "metadata": {},
   "outputs": [
    {
     "data": {
      "text/plain": [
       "5.0"
      ]
     },
     "execution_count": 39,
     "metadata": {},
     "output_type": "execute_result"
    }
   ],
   "source": [
    "df['Rating'].max()"
   ]
  },
  {
   "cell_type": "code",
   "execution_count": 40,
   "id": "d64c644a",
   "metadata": {},
   "outputs": [
    {
     "data": {
      "text/plain": [
       "(1795, 7)"
      ]
     },
     "execution_count": 40,
     "metadata": {},
     "output_type": "execute_result"
    }
   ],
   "source": [
    "df.shape"
   ]
  },
  {
   "cell_type": "code",
   "execution_count": 41,
   "id": "1a197eb4",
   "metadata": {},
   "outputs": [
    {
     "data": {
      "text/html": [
       "<div>\n",
       "<style scoped>\n",
       "    .dataframe tbody tr th:only-of-type {\n",
       "        vertical-align: middle;\n",
       "    }\n",
       "\n",
       "    .dataframe tbody tr th {\n",
       "        vertical-align: top;\n",
       "    }\n",
       "\n",
       "    .dataframe thead th {\n",
       "        text-align: right;\n",
       "    }\n",
       "</style>\n",
       "<table border=\"1\" class=\"dataframe\">\n",
       "  <thead>\n",
       "    <tr style=\"text-align: right;\">\n",
       "      <th></th>\n",
       "      <th>Id</th>\n",
       "      <th>Company</th>\n",
       "      <th>Bean Origin</th>\n",
       "      <th>Review Date</th>\n",
       "      <th>Cocoa Percent</th>\n",
       "      <th>Company Location</th>\n",
       "      <th>Rating</th>\n",
       "    </tr>\n",
       "  </thead>\n",
       "  <tbody>\n",
       "    <tr>\n",
       "      <th>1790</th>\n",
       "      <td>1791</td>\n",
       "      <td>Zotter</td>\n",
       "      <td>Peru</td>\n",
       "      <td>2011.0</td>\n",
       "      <td>70%</td>\n",
       "      <td>Austria</td>\n",
       "      <td>3.75</td>\n",
       "    </tr>\n",
       "    <tr>\n",
       "      <th>1791</th>\n",
       "      <td>1792</td>\n",
       "      <td>Zotter</td>\n",
       "      <td>Congo</td>\n",
       "      <td>2011.0</td>\n",
       "      <td>65%</td>\n",
       "      <td>Austria</td>\n",
       "      <td>3.00</td>\n",
       "    </tr>\n",
       "    <tr>\n",
       "      <th>1792</th>\n",
       "      <td>1793</td>\n",
       "      <td>Zotter</td>\n",
       "      <td>Kerala State</td>\n",
       "      <td>2011.0</td>\n",
       "      <td>65%</td>\n",
       "      <td>Austria</td>\n",
       "      <td>3.50</td>\n",
       "    </tr>\n",
       "    <tr>\n",
       "      <th>1793</th>\n",
       "      <td>1794</td>\n",
       "      <td>Zotter</td>\n",
       "      <td>Kerala State</td>\n",
       "      <td>2011.0</td>\n",
       "      <td>62%</td>\n",
       "      <td>Austria</td>\n",
       "      <td>3.25</td>\n",
       "    </tr>\n",
       "    <tr>\n",
       "      <th>1794</th>\n",
       "      <td>1795</td>\n",
       "      <td>Zotter</td>\n",
       "      <td>Brazil, Mitzi Blue</td>\n",
       "      <td>2010.0</td>\n",
       "      <td>65%</td>\n",
       "      <td>Austria</td>\n",
       "      <td>3.00</td>\n",
       "    </tr>\n",
       "  </tbody>\n",
       "</table>\n",
       "</div>"
      ],
      "text/plain": [
       "        Id Company         Bean Origin  Review Date Cocoa Percent  \\\n",
       "1790  1791  Zotter                Peru       2011.0           70%   \n",
       "1791  1792  Zotter               Congo       2011.0           65%   \n",
       "1792  1793  Zotter        Kerala State       2011.0           65%   \n",
       "1793  1794  Zotter        Kerala State       2011.0           62%   \n",
       "1794  1795  Zotter  Brazil, Mitzi Blue       2010.0           65%   \n",
       "\n",
       "     Company Location  Rating  \n",
       "1790          Austria    3.75  \n",
       "1791          Austria    3.00  \n",
       "1792          Austria    3.50  \n",
       "1793          Austria    3.25  \n",
       "1794          Austria    3.00  "
      ]
     },
     "execution_count": 41,
     "metadata": {},
     "output_type": "execute_result"
    }
   ],
   "source": [
    "df.tail()"
   ]
  },
  {
   "cell_type": "code",
   "execution_count": 42,
   "id": "13323238",
   "metadata": {},
   "outputs": [
    {
     "data": {
      "text/plain": [
       "pandas.core.series.Series"
      ]
     },
     "execution_count": 42,
     "metadata": {},
     "output_type": "execute_result"
    }
   ],
   "source": [
    "type(df['Rating'])"
   ]
  },
  {
   "cell_type": "code",
   "execution_count": 43,
   "id": "c7578c11",
   "metadata": {},
   "outputs": [
    {
     "data": {
      "text/plain": [
       "RangeIndex(start=0, stop=1795, step=1)"
      ]
     },
     "execution_count": 43,
     "metadata": {},
     "output_type": "execute_result"
    }
   ],
   "source": [
    "df.index"
   ]
  },
  {
   "cell_type": "code",
   "execution_count": 44,
   "id": "70595180",
   "metadata": {},
   "outputs": [],
   "source": [
    "df.set_index('Id',inplace=True)"
   ]
  },
  {
   "cell_type": "code",
   "execution_count": 45,
   "id": "281edd70",
   "metadata": {},
   "outputs": [
    {
     "data": {
      "text/html": [
       "<div>\n",
       "<style scoped>\n",
       "    .dataframe tbody tr th:only-of-type {\n",
       "        vertical-align: middle;\n",
       "    }\n",
       "\n",
       "    .dataframe tbody tr th {\n",
       "        vertical-align: top;\n",
       "    }\n",
       "\n",
       "    .dataframe thead th {\n",
       "        text-align: right;\n",
       "    }\n",
       "</style>\n",
       "<table border=\"1\" class=\"dataframe\">\n",
       "  <thead>\n",
       "    <tr style=\"text-align: right;\">\n",
       "      <th></th>\n",
       "      <th>Company</th>\n",
       "      <th>Bean Origin</th>\n",
       "      <th>Review Date</th>\n",
       "      <th>Cocoa Percent</th>\n",
       "      <th>Company Location</th>\n",
       "      <th>Rating</th>\n",
       "    </tr>\n",
       "    <tr>\n",
       "      <th>Id</th>\n",
       "      <th></th>\n",
       "      <th></th>\n",
       "      <th></th>\n",
       "      <th></th>\n",
       "      <th></th>\n",
       "      <th></th>\n",
       "    </tr>\n",
       "  </thead>\n",
       "  <tbody>\n",
       "    <tr>\n",
       "      <th>1</th>\n",
       "      <td>A. Morin</td>\n",
       "      <td>Agua Grande</td>\n",
       "      <td>2016.0</td>\n",
       "      <td>63%</td>\n",
       "      <td>France</td>\n",
       "      <td>3.75</td>\n",
       "    </tr>\n",
       "    <tr>\n",
       "      <th>2</th>\n",
       "      <td>A. Morin</td>\n",
       "      <td>Kpime</td>\n",
       "      <td>2015.0</td>\n",
       "      <td>70%</td>\n",
       "      <td>France</td>\n",
       "      <td>2.75</td>\n",
       "    </tr>\n",
       "    <tr>\n",
       "      <th>3</th>\n",
       "      <td>A. Morin</td>\n",
       "      <td>Atsane</td>\n",
       "      <td>2015.0</td>\n",
       "      <td>70%</td>\n",
       "      <td>France</td>\n",
       "      <td>3.00</td>\n",
       "    </tr>\n",
       "    <tr>\n",
       "      <th>4</th>\n",
       "      <td>A. Morin</td>\n",
       "      <td>Akata</td>\n",
       "      <td>2015.0</td>\n",
       "      <td>70%</td>\n",
       "      <td>France</td>\n",
       "      <td>3.50</td>\n",
       "    </tr>\n",
       "    <tr>\n",
       "      <th>5</th>\n",
       "      <td>A. Morin</td>\n",
       "      <td>Quilla</td>\n",
       "      <td>2015.0</td>\n",
       "      <td>70%</td>\n",
       "      <td>France</td>\n",
       "      <td>3.50</td>\n",
       "    </tr>\n",
       "  </tbody>\n",
       "</table>\n",
       "</div>"
      ],
      "text/plain": [
       "     Company  Bean Origin  Review Date Cocoa Percent Company Location  Rating\n",
       "Id                                                                           \n",
       "1   A. Morin  Agua Grande       2016.0           63%           France    3.75\n",
       "2   A. Morin        Kpime       2015.0           70%           France    2.75\n",
       "3   A. Morin       Atsane       2015.0           70%           France    3.00\n",
       "4   A. Morin        Akata       2015.0           70%           France    3.50\n",
       "5   A. Morin       Quilla       2015.0           70%           France    3.50"
      ]
     },
     "execution_count": 45,
     "metadata": {},
     "output_type": "execute_result"
    }
   ],
   "source": [
    "df.head()"
   ]
  },
  {
   "cell_type": "code",
   "execution_count": 46,
   "id": "b8ddc030",
   "metadata": {},
   "outputs": [
    {
     "data": {
      "text/plain": [
       "Id\n",
       "1       63%\n",
       "2       70%\n",
       "3       70%\n",
       "4       70%\n",
       "5       70%\n",
       "       ... \n",
       "1791    70%\n",
       "1792    65%\n",
       "1793    65%\n",
       "1794    62%\n",
       "1795    65%\n",
       "Name: Cocoa Percent, Length: 1795, dtype: object"
      ]
     },
     "execution_count": 46,
     "metadata": {},
     "output_type": "execute_result"
    }
   ],
   "source": [
    "df.loc[:,'Cocoa Percent']"
   ]
  },
  {
   "cell_type": "code",
   "execution_count": 47,
   "id": "5664f982",
   "metadata": {},
   "outputs": [
    {
     "name": "stdout",
     "output_type": "stream",
     "text": [
      "<class 'pandas.core.frame.DataFrame'>\n",
      "Int64Index: 1795 entries, 1 to 1795\n",
      "Data columns (total 6 columns):\n",
      " #   Column            Non-Null Count  Dtype  \n",
      "---  ------            --------------  -----  \n",
      " 0   Company           1795 non-null   object \n",
      " 1   Bean Origin       1795 non-null   object \n",
      " 2   Review Date       1791 non-null   float64\n",
      " 3   Cocoa Percent     1795 non-null   object \n",
      " 4   Company Location  1795 non-null   object \n",
      " 5   Rating            1795 non-null   float64\n",
      "dtypes: float64(2), object(4)\n",
      "memory usage: 98.2+ KB\n"
     ]
    }
   ],
   "source": [
    "df.info()"
   ]
  },
  {
   "cell_type": "code",
   "execution_count": 51,
   "id": "00fd6d5b",
   "metadata": {},
   "outputs": [
    {
     "data": {
      "text/html": [
       "<div>\n",
       "<style scoped>\n",
       "    .dataframe tbody tr th:only-of-type {\n",
       "        vertical-align: middle;\n",
       "    }\n",
       "\n",
       "    .dataframe tbody tr th {\n",
       "        vertical-align: top;\n",
       "    }\n",
       "\n",
       "    .dataframe thead th {\n",
       "        text-align: right;\n",
       "    }\n",
       "</style>\n",
       "<table border=\"1\" class=\"dataframe\">\n",
       "  <thead>\n",
       "    <tr style=\"text-align: right;\">\n",
       "      <th></th>\n",
       "      <th>Company</th>\n",
       "      <th>Bean Origin</th>\n",
       "      <th>Review Date</th>\n",
       "      <th>Cocoa Percent</th>\n",
       "      <th>Company Location</th>\n",
       "      <th>Rating</th>\n",
       "    </tr>\n",
       "    <tr>\n",
       "      <th>Id</th>\n",
       "      <th></th>\n",
       "      <th></th>\n",
       "      <th></th>\n",
       "      <th></th>\n",
       "      <th></th>\n",
       "      <th></th>\n",
       "    </tr>\n",
       "  </thead>\n",
       "  <tbody>\n",
       "    <tr>\n",
       "      <th>1</th>\n",
       "      <td>False</td>\n",
       "      <td>False</td>\n",
       "      <td>False</td>\n",
       "      <td>False</td>\n",
       "      <td>False</td>\n",
       "      <td>False</td>\n",
       "    </tr>\n",
       "    <tr>\n",
       "      <th>2</th>\n",
       "      <td>False</td>\n",
       "      <td>False</td>\n",
       "      <td>False</td>\n",
       "      <td>False</td>\n",
       "      <td>False</td>\n",
       "      <td>False</td>\n",
       "    </tr>\n",
       "    <tr>\n",
       "      <th>3</th>\n",
       "      <td>False</td>\n",
       "      <td>False</td>\n",
       "      <td>False</td>\n",
       "      <td>False</td>\n",
       "      <td>False</td>\n",
       "      <td>False</td>\n",
       "    </tr>\n",
       "    <tr>\n",
       "      <th>4</th>\n",
       "      <td>False</td>\n",
       "      <td>False</td>\n",
       "      <td>False</td>\n",
       "      <td>False</td>\n",
       "      <td>False</td>\n",
       "      <td>False</td>\n",
       "    </tr>\n",
       "    <tr>\n",
       "      <th>5</th>\n",
       "      <td>False</td>\n",
       "      <td>False</td>\n",
       "      <td>False</td>\n",
       "      <td>False</td>\n",
       "      <td>False</td>\n",
       "      <td>False</td>\n",
       "    </tr>\n",
       "    <tr>\n",
       "      <th>...</th>\n",
       "      <td>...</td>\n",
       "      <td>...</td>\n",
       "      <td>...</td>\n",
       "      <td>...</td>\n",
       "      <td>...</td>\n",
       "      <td>...</td>\n",
       "    </tr>\n",
       "    <tr>\n",
       "      <th>1791</th>\n",
       "      <td>False</td>\n",
       "      <td>False</td>\n",
       "      <td>False</td>\n",
       "      <td>False</td>\n",
       "      <td>False</td>\n",
       "      <td>False</td>\n",
       "    </tr>\n",
       "    <tr>\n",
       "      <th>1792</th>\n",
       "      <td>False</td>\n",
       "      <td>False</td>\n",
       "      <td>False</td>\n",
       "      <td>False</td>\n",
       "      <td>False</td>\n",
       "      <td>False</td>\n",
       "    </tr>\n",
       "    <tr>\n",
       "      <th>1793</th>\n",
       "      <td>False</td>\n",
       "      <td>False</td>\n",
       "      <td>False</td>\n",
       "      <td>False</td>\n",
       "      <td>False</td>\n",
       "      <td>False</td>\n",
       "    </tr>\n",
       "    <tr>\n",
       "      <th>1794</th>\n",
       "      <td>False</td>\n",
       "      <td>False</td>\n",
       "      <td>False</td>\n",
       "      <td>False</td>\n",
       "      <td>False</td>\n",
       "      <td>False</td>\n",
       "    </tr>\n",
       "    <tr>\n",
       "      <th>1795</th>\n",
       "      <td>False</td>\n",
       "      <td>False</td>\n",
       "      <td>False</td>\n",
       "      <td>False</td>\n",
       "      <td>False</td>\n",
       "      <td>False</td>\n",
       "    </tr>\n",
       "  </tbody>\n",
       "</table>\n",
       "<p>1795 rows × 6 columns</p>\n",
       "</div>"
      ],
      "text/plain": [
       "      Company  Bean Origin  Review Date  Cocoa Percent  Company Location  \\\n",
       "Id                                                                         \n",
       "1       False        False        False          False             False   \n",
       "2       False        False        False          False             False   \n",
       "3       False        False        False          False             False   \n",
       "4       False        False        False          False             False   \n",
       "5       False        False        False          False             False   \n",
       "...       ...          ...          ...            ...               ...   \n",
       "1791    False        False        False          False             False   \n",
       "1792    False        False        False          False             False   \n",
       "1793    False        False        False          False             False   \n",
       "1794    False        False        False          False             False   \n",
       "1795    False        False        False          False             False   \n",
       "\n",
       "      Rating  \n",
       "Id            \n",
       "1      False  \n",
       "2      False  \n",
       "3      False  \n",
       "4      False  \n",
       "5      False  \n",
       "...      ...  \n",
       "1791   False  \n",
       "1792   False  \n",
       "1793   False  \n",
       "1794   False  \n",
       "1795   False  \n",
       "\n",
       "[1795 rows x 6 columns]"
      ]
     },
     "execution_count": 51,
     "metadata": {},
     "output_type": "execute_result"
    }
   ],
   "source": [
    "df.isnull()"
   ]
  },
  {
   "cell_type": "code",
   "execution_count": 52,
   "id": "069cb4a0",
   "metadata": {},
   "outputs": [
    {
     "data": {
      "text/plain": [
       "array([1.  , 1.5 , 1.75, 2.  , 2.25, 2.5 , 2.75, 3.  , 3.25, 3.5 , 3.75,\n",
       "       4.  , 5.  ])"
      ]
     },
     "execution_count": 52,
     "metadata": {},
     "output_type": "execute_result"
    }
   ],
   "source": [
    "np.unique(df['Rating'])"
   ]
  },
  {
   "cell_type": "code",
   "execution_count": 53,
   "id": "632b6879",
   "metadata": {},
   "outputs": [
    {
     "data": {
      "text/plain": [
       "Company              object\n",
       "Bean Origin          object\n",
       "Review Date         float64\n",
       "Cocoa Percent        object\n",
       "Company Location     object\n",
       "Rating              float64\n",
       "dtype: object"
      ]
     },
     "execution_count": 53,
     "metadata": {},
     "output_type": "execute_result"
    }
   ],
   "source": [
    "df.dtypes"
   ]
  },
  {
   "cell_type": "code",
   "execution_count": 54,
   "id": "699e8f65",
   "metadata": {},
   "outputs": [],
   "source": [
    "temo_df=df.append(df)"
   ]
  },
  {
   "cell_type": "code",
   "execution_count": 55,
   "id": "b260ed20",
   "metadata": {},
   "outputs": [
    {
     "data": {
      "text/plain": [
       "(3590, 6)"
      ]
     },
     "execution_count": 55,
     "metadata": {},
     "output_type": "execute_result"
    }
   ],
   "source": [
    "temo_df.shape\n"
   ]
  },
  {
   "cell_type": "code",
   "execution_count": 57,
   "id": "1a284c44",
   "metadata": {},
   "outputs": [],
   "source": [
    "temo_df=temo_df.drop_duplicates()"
   ]
  },
  {
   "cell_type": "code",
   "execution_count": 58,
   "id": "ffc65fb7",
   "metadata": {},
   "outputs": [
    {
     "data": {
      "text/plain": [
       "(1795, 6)"
      ]
     },
     "execution_count": 58,
     "metadata": {},
     "output_type": "execute_result"
    }
   ],
   "source": [
    "temo_df.shape\n"
   ]
  },
  {
   "cell_type": "code",
   "execution_count": 63,
   "id": "28de9e68",
   "metadata": {},
   "outputs": [
    {
     "data": {
      "text/plain": [
       "count     1795\n",
       "unique     416\n",
       "top       Soma\n",
       "freq        47\n",
       "Name: Company, dtype: object"
      ]
     },
     "execution_count": 63,
     "metadata": {},
     "output_type": "execute_result"
    }
   ],
   "source": [
    "df['Company'].describe()"
   ]
  },
  {
   "cell_type": "code",
   "execution_count": 65,
   "id": "4d7124a8",
   "metadata": {},
   "outputs": [
    {
     "data": {
      "text/plain": [
       "count       1795\n",
       "unique        60\n",
       "top       U.S.A.\n",
       "freq         764\n",
       "Name: Company Location, dtype: object"
      ]
     },
     "execution_count": 65,
     "metadata": {},
     "output_type": "execute_result"
    }
   ],
   "source": [
    "df['Company Location'].describe()"
   ]
  },
  {
   "cell_type": "code",
   "execution_count": 66,
   "id": "1ce7ddf0",
   "metadata": {},
   "outputs": [
    {
     "name": "stdout",
     "output_type": "stream",
     "text": [
      "    0\n",
      "0   1\n",
      "1   2\n",
      "2   3\n",
      "3  10\n",
      "4  20\n",
      "5  30\n"
     ]
    }
   ],
   "source": [
    "import pandas as pd\n",
    "data = [1,2,3,10,20,30]\n",
    "df = pd.DataFrame(data)\n",
    "print(df)\n"
   ]
  },
  {
   "cell_type": "code",
   "execution_count": 67,
   "id": "ec5af729",
   "metadata": {},
   "outputs": [
    {
     "name": "stdout",
     "output_type": "stream",
     "text": [
      "  Name  Age\n",
      "0   AA   30\n",
      "1   BB   45\n"
     ]
    }
   ],
   "source": [
    "import pandas as pd\n",
    "data = {'Name' : ['AA', 'BB'], 'Age': [30,45]}\n",
    "df = pd.DataFrame(data)\n",
    "print(df)\n"
   ]
  },
  {
   "cell_type": "code",
   "execution_count": 68,
   "id": "95287b10",
   "metadata": {},
   "outputs": [
    {
     "name": "stdout",
     "output_type": "stream",
     "text": [
      "   a   b     c\n",
      "0  1   2   NaN\n",
      "1  5  10  20.0\n"
     ]
    }
   ],
   "source": [
    "import pandas as pd\n",
    "data = [{'a': 1, 'b': 2},{'a': 5, 'b': 10, 'c': 20}]\n",
    "df = pd.DataFrame(data)\n",
    "print(df)\n"
   ]
  },
  {
   "cell_type": "code",
   "execution_count": 69,
   "id": "1c225ced",
   "metadata": {},
   "outputs": [
    {
     "name": "stdout",
     "output_type": "stream",
     "text": [
      "        a   b     c\n",
      "first   1   2   NaN\n",
      "second  5  10  20.0\n"
     ]
    }
   ],
   "source": [
    "import pandas as pd\n",
    "data = [{'a': 1, 'b': 2},{'a': 5, 'b': 10, 'c': 20}]\n",
    "df = pd.DataFrame(data, index=['first', 'second'])\n",
    "print(df)\n"
   ]
  },
  {
   "cell_type": "code",
   "execution_count": 70,
   "id": "d9ceb9f5",
   "metadata": {},
   "outputs": [
    {
     "name": "stdout",
     "output_type": "stream",
     "text": [
      "        a   b\n",
      "first   1   2\n",
      "second  5  10\n",
      "...........\n",
      "        a  b1\n",
      "first   1 NaN\n",
      "second  5 NaN\n"
     ]
    }
   ],
   "source": [
    "import pandas as pd\n",
    "data = [{'a': 1, 'b': 2},{'a': 5, 'b': 10, 'c': 20}]\n",
    "\n",
    "#With two column indices, values same as dictionary keys\n",
    "df1 = pd.DataFrame(data,index=['first','second'],columns=['a','b'])\n",
    "\n",
    "#With two column indices with one index with other name\n",
    "df2 = pd.DataFrame(data,index=['first','second'],columns=['a','b1'])\n",
    "\n",
    "print(df1)\n",
    "print('...........')\n",
    "print(df2)\n"
   ]
  },
  {
   "cell_type": "code",
   "execution_count": 71,
   "id": "c6592b6e",
   "metadata": {},
   "outputs": [
    {
     "name": "stdout",
     "output_type": "stream",
     "text": [
      "   one  two\n",
      "a  1.0    1\n",
      "b  2.0    2\n",
      "c  3.0    3\n",
      "d  NaN    4\n"
     ]
    }
   ],
   "source": [
    "import pandas as pd\n",
    "d = {'one' : pd.Series([1, 2, 3]  , index=['a', 'b', 'c']), \n",
    "     'two' : pd.Series([1,2, 3, 4], index=['a', 'b', 'c', 'd'])\n",
    "    }\n",
    "df = pd.DataFrame(d)\n",
    "print(df)\n"
   ]
  },
  {
   "cell_type": "code",
   "execution_count": 72,
   "id": "87ad8b1e",
   "metadata": {},
   "outputs": [
    {
     "name": "stdout",
     "output_type": "stream",
     "text": [
      "Adding a new column by passing as Series:\n",
      "   one  two  three\n",
      "a  1.0    1   10.0\n",
      "b  2.0    2   20.0\n",
      "c  3.0    3   30.0\n",
      "d  NaN    4    NaN\n",
      "Adding a column using an existing columns in DataFrame:\n",
      "   one  two  three  four\n",
      "a  1.0    1   10.0  11.0\n",
      "b  2.0    2   20.0  22.0\n",
      "c  3.0    3   30.0  33.0\n",
      "d  NaN    4    NaN   NaN\n"
     ]
    }
   ],
   "source": [
    "import pandas as pd\n",
    "d = {'one':pd.Series([1,2,3],   index=['a','b','c']), \n",
    "     'two':pd.Series([1,2,3,4], index=['a','b','c','d'])\n",
    "    }\n",
    "df = pd.DataFrame(d)\n",
    "# Adding a new column to an existing DataFrame object\n",
    "# with column label by passing new series\n",
    "\n",
    "print(\"Adding a new column by passing as Series:\")\n",
    "df['three'] = pd.Series([10,20,30],index=['a','b','c'])\n",
    "print(df)\n",
    "\n",
    "print(\"Adding a column using an existing columns in DataFrame:\")\n",
    "df['four'] = df['one']+df['three']\n",
    "print(df)\n"
   ]
  },
  {
   "cell_type": "code",
   "execution_count": 73,
   "id": "20a658f8",
   "metadata": {},
   "outputs": [
    {
     "name": "stdout",
     "output_type": "stream",
     "text": [
      "   one  two\n",
      "a  1.0    1\n",
      "b  2.0    2\n",
      "c  3.0    3\n",
      "d  NaN    4\n",
      "   one  two    a    b\n",
      "a  1.0  1.0  NaN  NaN\n",
      "b  2.0  2.0  NaN  NaN\n",
      "c  3.0  3.0  NaN  NaN\n",
      "d  NaN  4.0  NaN  NaN\n",
      "0  NaN  NaN  5.0  6.0\n",
      "1  NaN  NaN  7.0  8.0\n",
      "   one  two    a    b\n",
      "a  1.0  1.0  NaN  NaN\n",
      "b  2.0  2.0  NaN  NaN\n",
      "c  3.0  3.0  NaN  NaN\n",
      "d  NaN  4.0  NaN  NaN\n",
      "1  NaN  NaN  7.0  8.0\n"
     ]
    }
   ],
   "source": [
    "import pandas as pd\n",
    "d = {'one':pd.Series([1, 2, 3],    index=['a','b','c']),\n",
    "     'two':pd.Series([1, 2, 3, 4], index=['a','b','c','d'])\n",
    "    }\n",
    "df = pd.DataFrame(d)\n",
    "print(df)\n",
    "\n",
    "df2 = pd.DataFrame([[5,6], [7,8]], columns = ['a', 'b'])\n",
    "df = df.append(df2 )\n",
    "print(df)\n",
    "\n",
    "df = df.drop(0)\n",
    "print(df)\n"
   ]
  },
  {
   "cell_type": "code",
   "execution_count": 74,
   "id": "70179104",
   "metadata": {},
   "outputs": [
    {
     "name": "stdout",
     "output_type": "stream",
     "text": [
      "    A  B  C   D\n",
      "A1  1  3  2   4\n",
      "A2  5  2  2   3\n",
      "A3  3  4  7   6\n",
      "A4  4  3  3  12\n",
      "A5  2  4  4   7\n",
      "     A   B   C  D\n",
      "A1  10  21  11  1\n",
      "A3  11   5  21  5\n",
      "A4   7  32  23  3\n",
      "A7   8   4   7  8\n",
      "A8   5   6   9  6\n"
     ]
    },
    {
     "data": {
      "text/html": [
       "<div>\n",
       "<style scoped>\n",
       "    .dataframe tbody tr th:only-of-type {\n",
       "        vertical-align: middle;\n",
       "    }\n",
       "\n",
       "    .dataframe tbody tr th {\n",
       "        vertical-align: top;\n",
       "    }\n",
       "\n",
       "    .dataframe thead th {\n",
       "        text-align: right;\n",
       "    }\n",
       "</style>\n",
       "<table border=\"1\" class=\"dataframe\">\n",
       "  <thead>\n",
       "    <tr style=\"text-align: right;\">\n",
       "      <th></th>\n",
       "      <th>A</th>\n",
       "      <th>B</th>\n",
       "      <th>C</th>\n",
       "      <th>D</th>\n",
       "    </tr>\n",
       "  </thead>\n",
       "  <tbody>\n",
       "    <tr>\n",
       "      <th>A1</th>\n",
       "      <td>1.0</td>\n",
       "      <td>3.0</td>\n",
       "      <td>2.0</td>\n",
       "      <td>4.0</td>\n",
       "    </tr>\n",
       "    <tr>\n",
       "      <th>A3</th>\n",
       "      <td>3.0</td>\n",
       "      <td>4.0</td>\n",
       "      <td>7.0</td>\n",
       "      <td>6.0</td>\n",
       "    </tr>\n",
       "    <tr>\n",
       "      <th>A4</th>\n",
       "      <td>4.0</td>\n",
       "      <td>3.0</td>\n",
       "      <td>3.0</td>\n",
       "      <td>12.0</td>\n",
       "    </tr>\n",
       "    <tr>\n",
       "      <th>A7</th>\n",
       "      <td>NaN</td>\n",
       "      <td>NaN</td>\n",
       "      <td>NaN</td>\n",
       "      <td>NaN</td>\n",
       "    </tr>\n",
       "    <tr>\n",
       "      <th>A8</th>\n",
       "      <td>NaN</td>\n",
       "      <td>NaN</td>\n",
       "      <td>NaN</td>\n",
       "      <td>NaN</td>\n",
       "    </tr>\n",
       "  </tbody>\n",
       "</table>\n",
       "</div>"
      ],
      "text/plain": [
       "      A    B    C     D\n",
       "A1  1.0  3.0  2.0   4.0\n",
       "A3  3.0  4.0  7.0   6.0\n",
       "A4  4.0  3.0  3.0  12.0\n",
       "A7  NaN  NaN  NaN   NaN\n",
       "A8  NaN  NaN  NaN   NaN"
      ]
     },
     "execution_count": 74,
     "metadata": {},
     "output_type": "execute_result"
    }
   ],
   "source": [
    "import pandas as pd\n",
    "# Creating the first dataframe\n",
    "df1 = pd.DataFrame({\"A\":[1, 5, 3, 4, 2], \"B\":[3, 2, 4, 3, 4], \"C\":[2, 2, 7, 3, 4],\"D\":[4, 3, 6, 12, 7]},\n",
    "\t\t     index =[\"A1\", \"A2\", \"A3\", \"A4\", \"A5\"])\n",
    "\n",
    "# Creating the second dataframe\n",
    "df2 = pd.DataFrame({\"A\":[10, 11, 7, 8, 5],\n",
    "\t\t     \"B\":[21, 5, 32, 4, 6],\n",
    "\t\t     \"C\":[11, 21, 23, 7, 9],\n",
    "\t\t     \"D\":[1, 5, 3, 8, 6]},\n",
    "\t\t     index =[\"A1\", \"A3\", \"A4\", \"A7\", \"A8\"])\n",
    "\n",
    "# Print the first dataframe\n",
    "print(df1)\n",
    "print(df2)\n",
    "# find matching indexes\n",
    "df1.reindex_like(df2)\n"
   ]
  },
  {
   "cell_type": "code",
   "execution_count": 75,
   "id": "30cda4f5",
   "metadata": {
    "scrolled": true
   },
   "outputs": [
    {
     "data": {
      "text/html": [
       "<div>\n",
       "<style scoped>\n",
       "    .dataframe tbody tr th:only-of-type {\n",
       "        vertical-align: middle;\n",
       "    }\n",
       "\n",
       "    .dataframe tbody tr th {\n",
       "        vertical-align: top;\n",
       "    }\n",
       "\n",
       "    .dataframe thead th {\n",
       "        text-align: right;\n",
       "    }\n",
       "</style>\n",
       "<table border=\"1\" class=\"dataframe\">\n",
       "  <thead>\n",
       "    <tr style=\"text-align: right;\">\n",
       "      <th></th>\n",
       "      <th>Name</th>\n",
       "      <th>SSN</th>\n",
       "      <th>marks</th>\n",
       "    </tr>\n",
       "  </thead>\n",
       "  <tbody>\n",
       "    <tr>\n",
       "      <th>0</th>\n",
       "      <td>A</td>\n",
       "      <td>10</td>\n",
       "      <td>90</td>\n",
       "    </tr>\n",
       "    <tr>\n",
       "      <th>1</th>\n",
       "      <td>B</td>\n",
       "      <td>20</td>\n",
       "      <td>95</td>\n",
       "    </tr>\n",
       "    <tr>\n",
       "      <th>0</th>\n",
       "      <td>B</td>\n",
       "      <td>25</td>\n",
       "      <td>80</td>\n",
       "    </tr>\n",
       "    <tr>\n",
       "      <th>1</th>\n",
       "      <td>C</td>\n",
       "      <td>30</td>\n",
       "      <td>97</td>\n",
       "    </tr>\n",
       "  </tbody>\n",
       "</table>\n",
       "</div>"
      ],
      "text/plain": [
       "  Name  SSN  marks\n",
       "0    A   10     90\n",
       "1    B   20     95\n",
       "0    B   25     80\n",
       "1    C   30     97"
      ]
     },
     "execution_count": 75,
     "metadata": {},
     "output_type": "execute_result"
    }
   ],
   "source": [
    "import pandas as pd\n",
    "df1 = pd.DataFrame({'Name':['A','B'], 'SSN':[10,20], 'marks':[90, 95] })\n",
    "df2 = pd.DataFrame({'Name':['B','C'], 'SSN':[25,30], 'marks':[80, 97] })\n",
    "df3 = pd.concat([df1, df2])\n",
    "df3\n"
   ]
  },
  {
   "cell_type": "code",
   "execution_count": 76,
   "id": "b290af47",
   "metadata": {},
   "outputs": [
    {
     "name": "stdout",
     "output_type": "stream",
     "text": [
      "['a', 'b', 'c', 'a', 'b', 'c']\n",
      "Categories (3, object): ['a', 'b', 'c']\n"
     ]
    }
   ],
   "source": [
    "import pandas as pd\n",
    "cat = pd.Categorical(['a', 'b', 'c', 'a', 'b', 'c'])\n",
    "print(cat)\n"
   ]
  },
  {
   "cell_type": "code",
   "execution_count": 81,
   "id": "1c799e27",
   "metadata": {},
   "outputs": [
    {
     "name": "stdout",
     "output_type": "stream",
     "text": [
      "cat is : ['a', 'c', 'c', NaN]\n",
      "Categories (3, object): ['b', 'a', 'c']\n",
      "\n",
      " Dataframe df is :\n",
      "    cat    s\n",
      "0    a    a\n",
      "1    c    c\n",
      "2    c    c\n",
      "3  NaN  NaN\n",
      "\n",
      " describtion of df:\n",
      "        cat  s\n",
      "count    3  3\n",
      "unique   2  2\n",
      "top      c  c\n",
      "freq     2  2\n",
      "\n",
      " describtion od only column cat is:\n",
      " count     3\n",
      "unique    2\n",
      "top       c\n",
      "freq      2\n",
      "Name: cat, dtype: object\n"
     ]
    }
   ],
   "source": [
    "import pandas as pd\n",
    "import numpy as np\n",
    "cat = pd.Categorical([\"a\", \"c\", \"c\", np.nan], categories=[\"b\", \"a\", \"c\"])\n",
    "print(\"cat is :\",cat)\n",
    "df = pd.DataFrame({\"cat\": cat, \"s\":[\"a\", \"c\", \"c\", np.nan]})\n",
    "print(\"\\n Dataframe df is :\\n\",df)\n",
    "print(\"\\n describtion of df:\\n\", df.describe())\n",
    "print(\"\\n describtion of only column cat is:\\n\", df[\"cat\"].describe())\n"
   ]
  },
  {
   "cell_type": "code",
   "execution_count": null,
   "id": "88357581",
   "metadata": {},
   "outputs": [],
   "source": []
  }
 ],
 "metadata": {
  "celltoolbar": "Raw Cell Format",
  "kernelspec": {
   "display_name": "Python 3 (ipykernel)",
   "language": "python",
   "name": "python3"
  },
  "language_info": {
   "codemirror_mode": {
    "name": "ipython",
    "version": 3
   },
   "file_extension": ".py",
   "mimetype": "text/x-python",
   "name": "python",
   "nbconvert_exporter": "python",
   "pygments_lexer": "ipython3",
   "version": "3.8.8"
  },
  "widgets": {
   "application/vnd.jupyter.widget-state+json": {
    "state": {},
    "version_major": 2,
    "version_minor": 0
   }
  }
 },
 "nbformat": 4,
 "nbformat_minor": 5
}
