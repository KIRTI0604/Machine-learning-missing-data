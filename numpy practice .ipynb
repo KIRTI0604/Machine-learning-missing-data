{
 "cells": [
  {
   "cell_type": "code",
   "execution_count": 4,
   "id": "90037d23",
   "metadata": {
    "collapsed": true
   },
   "outputs": [],
   "source": [
    "import numpy as np\n",
    "np.random.seed(3)\n",
    "n=np.random.randint(0,50,10)\n"
   ]
  },
  {
   "cell_type": "code",
   "execution_count": 5,
   "id": "7c7a7901",
   "metadata": {
    "collapsed": true
   },
   "outputs": [
    {
     "name": "stdout",
     "output_type": "stream",
     "text": [
      "[42 24  3  8  0 21 19 10 43 41]\n"
     ]
    }
   ],
   "source": [
    "print(n)"
   ]
  },
  {
   "cell_type": "code",
   "execution_count": 6,
   "id": "8c5d5962",
   "metadata": {
    "collapsed": true
   },
   "outputs": [
    {
     "name": "stdout",
     "output_type": "stream",
     "text": [
      "1.21.5\n"
     ]
    }
   ],
   "source": [
    "print(np.__version__)"
   ]
  },
  {
   "cell_type": "code",
   "execution_count": 7,
   "id": "daa9fb4e",
   "metadata": {
    "collapsed": true
   },
   "outputs": [],
   "source": [
    "arr=np.array([1,2,5,3,4])  # list as Array"
   ]
  },
  {
   "cell_type": "code",
   "execution_count": null,
   "id": "5537880d",
   "metadata": {},
   "outputs": [],
   "source": [
    "arr"
   ]
  },
  {
   "cell_type": "code",
   "execution_count": 9,
   "id": "cc4ae676",
   "metadata": {
    "collapsed": true
   },
   "outputs": [
    {
     "data": {
      "text/plain": [
       "numpy.ndarray"
      ]
     },
     "execution_count": 9,
     "metadata": {},
     "output_type": "execute_result"
    }
   ],
   "source": [
    "type(arr)"
   ]
  },
  {
   "cell_type": "code",
   "execution_count": 11,
   "id": "1fa63790",
   "metadata": {
    "collapsed": true
   },
   "outputs": [
    {
     "data": {
      "text/plain": [
       "array([11, 21, 15, 13, 14])"
      ]
     },
     "execution_count": 11,
     "metadata": {},
     "output_type": "execute_result"
    }
   ],
   "source": [
    "arr1=np.array((11,21,15,13,14))  # tuple as array\n",
    "arr1"
   ]
  },
  {
   "cell_type": "raw",
   "id": "145d4d10",
   "metadata": {},
   "source": [
    "Dimensions in Arrays"
   ]
  },
  {
   "cell_type": "code",
   "execution_count": 31,
   "id": "fbc33835",
   "metadata": {},
   "outputs": [
    {
     "name": "stdout",
     "output_type": "stream",
     "text": [
      "0 d array is : 23\n",
      " Dimension is : 0\n",
      "\n",
      "1 d array is : [22 21 23]\n",
      " Dimension is : 1\n",
      "\n",
      "2 d array is : [[ 1  2  3]\n",
      " [45 56 78]]\n",
      " Dimension is : 2\n",
      "\n",
      "3 d array is : [[[ 1  2  3]\n",
      "  [23  5  6]]\n",
      "\n",
      " [[ 4  5  6]\n",
      "  [45 56 78]]]\n",
      " Dimension is : 3\n"
     ]
    }
   ],
   "source": [
    "# 0 D Array\n",
    "arr0=np.array(23)\n",
    "print(\"0 d array is :\",arr0)\n",
    "print(\" Dimension is :\",arr0.ndim)\n",
    "# 1 D Array\n",
    "arr1=np.array([22,21,23])\n",
    "print(\"\\n1 d array is :\",arr1)\n",
    "print(\" Dimension is :\",arr1.ndim)\n",
    "\n",
    "# 2 D Array\n",
    "arr2=np.array([[1,2,3],[45,56,78]])\n",
    "print(\"\\n2 d array is :\",arr2)\n",
    "print(\" Dimension is :\",arr2.ndim)\n",
    "#3 D Array\n",
    "arr3=np.array([[[1,2,3],[23,5,6]],[[4,5,6],[45,56,78]]])\n",
    "print(\"\\n3 d array is :\",arr3)\n",
    "print(\" Dimension is :\",arr3.ndim)"
   ]
  },
  {
   "cell_type": "code",
   "execution_count": 49,
   "id": "a6ee15f8",
   "metadata": {
    "scrolled": true
   },
   "outputs": [
    {
     "name": "stdout",
     "output_type": "stream",
     "text": [
      "[45 56 78]\n",
      "[1 2 3 4 5 6]\n",
      "[[1]\n",
      " [2]\n",
      " [3]\n",
      " [4]\n",
      " [5]]\n",
      "2\n",
      "4\n",
      "[1 2 3 4 5 6]\n",
      "[1 2 3]\n",
      "[4 5 6]\n",
      "6\n"
     ]
    }
   ],
   "source": [
    "#Accessing an array element\n",
    "print(arr3[1][1])\n",
    "\n",
    "vec_r=np.array([1,2,3,4,5,6])\n",
    "print(vec_r)\n",
    "\n",
    "# an col array\n",
    "vec_c=np.array([[1],[2],[3],[4],[5]])\n",
    "print(vec_c)\n",
    "print(vec_c.ndim)\n",
    "\n",
    "# Extracting elements from array\n",
    "print(vec_r[3])\n",
    "print(vec_r[:])\n",
    "print(vec_r[:3])\n",
    "print(vec_r[3:])\n",
    "\n",
    "\n",
    "print(vec_r[-1])"
   ]
  },
  {
   "cell_type": "code",
   "execution_count": 52,
   "id": "315a218f",
   "metadata": {
    "collapsed": true
   },
   "outputs": [
    {
     "name": "stdout",
     "output_type": "stream",
     "text": [
      "[[ 1  2  3  4  5]\n",
      " [ 5  6  7  8  9]\n",
      " [ 7  8  9 12 11]]\n",
      "2\n"
     ]
    }
   ],
   "source": [
    "# matrix in numpy\n",
    "mat=np.array([[1,2,3,4,5],[5,6,7,8,9],[7,8,9,12,11]])\n",
    "print(mat)\n",
    "print(mat.ndim)"
   ]
  },
  {
   "cell_type": "code",
   "execution_count": 54,
   "id": "b30c991b",
   "metadata": {
    "collapsed": true
   },
   "outputs": [
    {
     "name": "stdout",
     "output_type": "stream",
     "text": [
      "int32\n",
      "(3, 5)\n"
     ]
    }
   ],
   "source": [
    "print(mat.dtype)\n",
    "print(mat.shape)"
   ]
  },
  {
   "cell_type": "code",
   "execution_count": 58,
   "id": "70a114be",
   "metadata": {
    "collapsed": true
   },
   "outputs": [
    {
     "name": "stdout",
     "output_type": "stream",
     "text": [
      "15\n",
      "[[ 1  2  3]\n",
      " [ 4  5  5]\n",
      " [ 6  7  8]\n",
      " [ 9  7  8]\n",
      " [ 9 12 11]]\n",
      "[[ 1  2  3  4  5]\n",
      " [ 5  6  7  8  9]\n",
      " [ 7  8  9 12 11]]\n",
      "[[ 1  5  7]\n",
      " [ 2  6  8]\n",
      " [ 3  7  9]\n",
      " [ 4  8 12]\n",
      " [ 5  9 11]]\n"
     ]
    }
   ],
   "source": [
    "print(mat.size)\n",
    "\n",
    "#Reshapes the Matrix in new dimensions\n",
    "print(mat.reshape(5,3))\n",
    "\n",
    "#transpose\n",
    "print(mat.T)"
   ]
  },
  {
   "cell_type": "code",
   "execution_count": 62,
   "id": "2c16e18a",
   "metadata": {},
   "outputs": [
    {
     "name": "stdout",
     "output_type": "stream",
     "text": [
      "12\n",
      "1\n",
      "[ 7  8  9 12 11]\n",
      "[1 2 3 4 5]\n"
     ]
    }
   ],
   "source": [
    "# Statical functions in numpy\n",
    "print(np.max(mat))\n",
    "print(np.min(mat))\n",
    "\n",
    "\n",
    "print(np.max(mat, axis=0))\n",
    "\n",
    "print(np.min(mat,axis=0))"
   ]
  },
  {
   "cell_type": "code",
   "execution_count": 63,
   "id": "537f3422",
   "metadata": {},
   "outputs": [
    {
     "name": "stdout",
     "output_type": "stream",
     "text": [
      "[ 5  9 12]\n",
      "[1 5 7]\n"
     ]
    }
   ],
   "source": [
    "print(np.max(mat, axis=1))\n",
    "\n",
    "print(np.min(mat,axis=1))"
   ]
  },
  {
   "cell_type": "code",
   "execution_count": 64,
   "id": "a1c35600",
   "metadata": {},
   "outputs": [
    {
     "name": "stdout",
     "output_type": "stream",
     "text": [
      "6.466666666666667\n"
     ]
    }
   ],
   "source": [
    "print(np.mean(mat))"
   ]
  },
  {
   "cell_type": "code",
   "execution_count": 67,
   "id": "4c60e920",
   "metadata": {},
   "outputs": [
    {
     "name": "stdout",
     "output_type": "stream",
     "text": [
      "9.448888888888888\n",
      "3.0739045022396008\n",
      "[[1.         1.41421356 1.73205081 2.         2.23606798]\n",
      " [2.23606798 2.44948974 2.64575131 2.82842712 3.        ]\n",
      " [2.64575131 2.82842712 3.         3.46410162 3.31662479]]\n"
     ]
    },
    {
     "ename": "AttributeError",
     "evalue": "module 'numpy' has no attribute 'sqr'",
     "output_type": "error",
     "traceback": [
      "\u001b[1;31m---------------------------------------------------------------------------\u001b[0m",
      "\u001b[1;31mAttributeError\u001b[0m                            Traceback (most recent call last)",
      "\u001b[1;32m~\\AppData\\Local\\Temp\\ipykernel_3428\\1432346567.py\u001b[0m in \u001b[0;36m<module>\u001b[1;34m\u001b[0m\n\u001b[0;32m      4\u001b[0m \u001b[0mprint\u001b[0m\u001b[1;33m(\u001b[0m\u001b[0mnp\u001b[0m\u001b[1;33m.\u001b[0m\u001b[0msqrt\u001b[0m\u001b[1;33m(\u001b[0m\u001b[0mmat\u001b[0m\u001b[1;33m)\u001b[0m\u001b[1;33m)\u001b[0m\u001b[1;33m\u001b[0m\u001b[1;33m\u001b[0m\u001b[0m\n\u001b[0;32m      5\u001b[0m \u001b[1;33m\u001b[0m\u001b[0m\n\u001b[1;32m----> 6\u001b[1;33m \u001b[0mprint\u001b[0m\u001b[1;33m(\u001b[0m\u001b[0mnp\u001b[0m\u001b[1;33m.\u001b[0m\u001b[0msqr\u001b[0m\u001b[1;33m(\u001b[0m\u001b[0mmat\u001b[0m\u001b[1;33m)\u001b[0m\u001b[1;33m)\u001b[0m\u001b[1;33m\u001b[0m\u001b[1;33m\u001b[0m\u001b[0m\n\u001b[0m",
      "\u001b[1;32m~\\anaconda3\\lib\\site-packages\\numpy\\__init__.py\u001b[0m in \u001b[0;36m__getattr__\u001b[1;34m(attr)\u001b[0m\n\u001b[0;32m    311\u001b[0m                 \u001b[1;32mreturn\u001b[0m \u001b[0mTester\u001b[0m\u001b[1;33m\u001b[0m\u001b[1;33m\u001b[0m\u001b[0m\n\u001b[0;32m    312\u001b[0m \u001b[1;33m\u001b[0m\u001b[0m\n\u001b[1;32m--> 313\u001b[1;33m             raise AttributeError(\"module {!r} has no attribute \"\n\u001b[0m\u001b[0;32m    314\u001b[0m                                  \"{!r}\".format(__name__, attr))\n\u001b[0;32m    315\u001b[0m \u001b[1;33m\u001b[0m\u001b[0m\n",
      "\u001b[1;31mAttributeError\u001b[0m: module 'numpy' has no attribute 'sqr'"
     ]
    }
   ],
   "source": [
    "print(np.var(mat))\n",
    "\n",
    "print(np.std(mat))\n",
    "print(np.sqrt(mat))\n",
    "\n",
    "\n"
   ]
  },
  {
   "cell_type": "code",
   "execution_count": null,
   "id": "68f568a9",
   "metadata": {},
   "outputs": [],
   "source": []
  },
  {
   "cell_type": "code",
   "execution_count": null,
   "id": "94346fd5",
   "metadata": {},
   "outputs": [],
   "source": []
  },
  {
   "cell_type": "code",
   "execution_count": null,
   "id": "55d749ec",
   "metadata": {},
   "outputs": [],
   "source": []
  },
  {
   "cell_type": "code",
   "execution_count": null,
   "id": "b8f6aa3c",
   "metadata": {},
   "outputs": [],
   "source": []
  },
  {
   "cell_type": "code",
   "execution_count": null,
   "id": "4c4c342d",
   "metadata": {},
   "outputs": [],
   "source": []
  }
 ],
 "metadata": {
  "kernelspec": {
   "display_name": "Python 3 (ipykernel)",
   "language": "python",
   "name": "python3"
  },
  "language_info": {
   "codemirror_mode": {
    "name": "ipython",
    "version": 3
   },
   "file_extension": ".py",
   "mimetype": "text/x-python",
   "name": "python",
   "nbconvert_exporter": "python",
   "pygments_lexer": "ipython3",
   "version": "3.8.8"
  },
  "widgets": {
   "application/vnd.jupyter.widget-state+json": {
    "state": {},
    "version_major": 2,
    "version_minor": 0
   }
  }
 },
 "nbformat": 4,
 "nbformat_minor": 5
}
