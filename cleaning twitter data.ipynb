{
 "cells": [
  {
   "cell_type": "code",
   "execution_count": 1,
   "metadata": {},
   "outputs": [],
   "source": [
    "import os\n",
    "import pandas as pd\n",
    "import matplotlib.pyplot as plt\n",
    "import seaborn as sns\n",
    "import itertools\n",
    "import collections\n",
    "\n",
    "import tweepy as tw\n",
    "import nltk\n",
    "from nltk.corpus import stopwords\n",
    "import re\n",
    "import networkx\n",
    "\n",
    "import warnings\n",
    "warnings.filterwarnings(\"ignore\")\n",
    "\n",
    "sns.set(font_scale=1.5)\n",
    "sns.set_style(\"whitegrid\")"
   ]
  },
  {
   "cell_type": "code",
   "execution_count": 2,
   "metadata": {},
   "outputs": [],
   "source": [
    "consumer_key=\"vLPDq6d3VcpIDZsKByloFUdWQ\"\n",
    "consumer_scret=\"R6fYDY6llVIZhJ2CO9yuvdBAllCi8brni1zktePxwNErDLsS8O\"\n",
    "access_token=\"1377948754658009093-eVkn0pcjLhQKYcnBQAHF0G7bpFgBtY\"\n",
    "access_token_scret=\"xq7AjYpag5pYddaAtT6P2osHvCQjTgGsfCKR5YnV28S6x\""
   ]
  },
  {
   "cell_type": "code",
   "execution_count": 3,
   "metadata": {},
   "outputs": [],
   "source": [
    "auth=tw.OAuthHandler(consumer_key,consumer_scret)\n",
    "auth.set_access_token(access_token,access_token_scret)\n",
    "api=tw.API(auth,wait_on_rate_limit=True)"
   ]
  },
  {
   "cell_type": "code",
   "execution_count": null,
   "metadata": {},
   "outputs": [],
   "source": []
  },
  {
   "cell_type": "code",
   "execution_count": 4,
   "metadata": {},
   "outputs": [],
   "source": [
    "search_words=\"climate\"+\"change\"\n",
    "date_since=\"2020-11-01\""
   ]
  },
  {
   "cell_type": "code",
   "execution_count": 5,
   "metadata": {},
   "outputs": [],
   "source": [
    "tweets=tw.Cursor(api.search,q=search_words,lang=\"en\",since=date_since).items(1000)"
   ]
  },
  {
   "cell_type": "code",
   "execution_count": 6,
   "metadata": {},
   "outputs": [
    {
     "data": {
      "text/plain": [
       "['RT @MikeHudema: Here is a 90 second video summary of climate change since 1850. Notice a pattern?\\n\\nTime to treat #climatechange like the #c…',\n",
       " 'RT @TheBabita: Pleasure to brief #LDCs Ambassadors on #climatechange as part of Inputs on the Road to Doha. 30% or US$ 2.5B of @theGCF fund…',\n",
       " '@ImranKhanPTI why are you asking for funding? for #climatechange ?',\n",
       " 'RT @GeraldKutney: Something is rotten in the state of Denial.\\n\\n#ClimateCrisis #climatechange',\n",
       " 'RT @GeraldKutney: Isaac Asimov: \"Anti-intellectualism has been a constant thread winding its way through our political and cultural life, n…',\n",
       " 'RT @EarthAccounting: Once #ClimateChange deniers, the #agriculture industry positions itself as part of the solution https://t.co/G9qijiQPo…',\n",
       " 'RT @CLEANBOSS2: #ADAPT #ADOPT #SHAPEUP\\n2 #Environment Challenges\\nFast changing circumstances KeepUp with pace take back control Prioritize…',\n",
       " '@thinks_about_it @Climatehope2 @YootDigmeMusic @TFFPrisoner @edcranium @CafeLiminal @Pylon54 @ParisOrtizWines… https://t.co/fGUMaX29BT',\n",
       " 'RT @MikeHudema: Here is a 90 second video summary of climate change since 1850. Notice a pattern?\\n\\nTime to treat #climatechange like the #c…',\n",
       " \"RT @JWSpry: NATIONAL GEOGRAPHIC : 'Norway Was Warmer 1,000 Years Ago' https://t.co/IMCVbJninq via @JWSpry #Climatism #ClimateChange #Mediev…\"]"
      ]
     },
     "execution_count": 6,
     "metadata": {},
     "output_type": "execute_result"
    }
   ],
   "source": [
    "all_tweets = [tweet.text for tweet in tweets]\n",
    "\n",
    "all_tweets[:10]"
   ]
  },
  {
   "cell_type": "code",
   "execution_count": 7,
   "metadata": {},
   "outputs": [],
   "source": [
    "new_search_words=search_words+\"-filter:retweets\"\n",
    "date_since=\"2020-11-01\"\n",
    "tweets=tw.Cursor(api.search,q=new_search_words,lang=\"en\",since=date_since).items(1000)"
   ]
  },
  {
   "cell_type": "code",
   "execution_count": 8,
   "metadata": {},
   "outputs": [
    {
     "data": {
      "text/plain": [
       "['@ImranKhanPTI why are you asking for funding? for #climatechange ?',\n",
       " '@thinks_about_it @Climatehope2 @YootDigmeMusic @TFFPrisoner @edcranium @CafeLiminal @Pylon54 @ParisOrtizWines… https://t.co/fGUMaX29BT',\n",
       " 'The planet is far too precious for mankind to ‘second guess’ Mother Nature or ‘hope for the best’. A significant pr… https://t.co/oBRsXGiMsY',\n",
       " '@HumanRightsAni1 I think this is partly what makes it increasingly difficult for the public to decide what to trust… https://t.co/yinuZx631d',\n",
       " '@TFFPrisoner @edcranium @thinks_about_it @CafeLiminal @Climatehope2 @Pylon54 @ParisOrtizWines \"progress\"?\\nFaux-gree… https://t.co/YDFQXLWo6V',\n",
       " 'The paper, published in the journal @NatureClimate, estimates that global farming productivity has fallen 21% since… https://t.co/Bw0P38qMMn',\n",
       " '@fordnation has failed us on so many levels from the wasted $ on carbon tax fight, #LCBO #Hydro CEO. Cuts to #PHO… https://t.co/9AwkeXtHFa',\n",
       " 'Special Envoy for Climate Affairs of #Bahrain 🇧🇭, H.E. Dr. Mohamed Bin Daina @M_Bahrain, highlighted the need to ma… https://t.co/sagMxVVe67',\n",
       " '@TFFPrisoner @Pylon54 @thinks_about_it @Climatehope2 @YootDigmeMusic @edcranium @CafeLiminal @ParisOrtizWines… https://t.co/WbPSKT0Hsl',\n",
       " '\"Rising seas, increasing salinity, and a reduction in fish catch caused by overfishing, water pollution and… https://t.co/0ayVyHV7v7']"
      ]
     },
     "execution_count": 8,
     "metadata": {},
     "output_type": "execute_result"
    }
   ],
   "source": [
    "all_tweets1 = [tweet.text for tweet in tweets]\n",
    "\n",
    "all_tweets1[:10]"
   ]
  },
  {
   "cell_type": "code",
   "execution_count": 9,
   "metadata": {},
   "outputs": [
    {
     "name": "stdout",
     "output_type": "stream",
     "text": [
      "ututu\n"
     ]
    }
   ],
   "source": [
    "def remove_url(txt):\n",
    "    \"\"\"Replace URLs found in a text string with nothing \n",
    "    (i.e. it will remove the URL from the string).\n",
    "\n",
    "    Parameters\n",
    "    ----------\n",
    "    txt : string\n",
    "        A text string that you want to parse and remove urls.\n",
    "\n",
    "    Returns\n",
    "    -------\n",
    "    The same txt string with url's removed.\n",
    "    \"\"\"\n",
    "\n",
    "    return \" \".join(re.sub(\"([^0-9A-Za-z \\t])|(\\w+:\\/\\/\\S+)\", \" \", txt).split())\n",
    "print(\"ututu\")"
   ]
  },
  {
   "cell_type": "code",
   "execution_count": 10,
   "metadata": {},
   "outputs": [
    {
     "data": {
      "text/plain": [
       "['RT MikeHudema Here is a 90 second video summary of climate change since 1850 Notice a pattern Time to treat climatechange like the c',\n",
       " 'RT TheBabita Pleasure to brief LDCs Ambassadors on climatechange as part of Inputs on the Road to Doha 30 or US 2 5B of theGCF fund',\n",
       " 'ImranKhanPTI why are you asking for funding for climatechange',\n",
       " 'RT GeraldKutney Something is rotten in the state of Denial ClimateCrisis climatechange',\n",
       " 'RT GeraldKutney Isaac Asimov Anti intellectualism has been a constant thread winding its way through our political and cultural life n',\n",
       " 'RT EarthAccounting Once ClimateChange deniers the agriculture industry positions itself as part of the solution',\n",
       " 'RT CLEANBOSS2 ADAPT ADOPT SHAPEUP 2 Environment Challenges Fast changing circumstances KeepUp with pace take back control Prioritize',\n",
       " 'thinks about it Climatehope2 YootDigmeMusic TFFPrisoner edcranium CafeLiminal Pylon54 ParisOrtizWines',\n",
       " 'RT MikeHudema Here is a 90 second video summary of climate change since 1850 Notice a pattern Time to treat climatechange like the c',\n",
       " 'RT JWSpry NATIONAL GEOGRAPHIC Norway Was Warmer 1 000 Years Ago via JWSpry Climatism ClimateChange Mediev']"
      ]
     },
     "execution_count": 10,
     "metadata": {},
     "output_type": "execute_result"
    }
   ],
   "source": [
    "all_tweets_no_urls = [remove_url(tweet) for tweet in all_tweets]\n",
    "all_tweets_no_urls[:10]"
   ]
  },
  {
   "cell_type": "code",
   "execution_count": 11,
   "metadata": {},
   "outputs": [
    {
     "data": {
      "text/plain": [
       "[['rt',\n",
       "  'mikehudema',\n",
       "  'here',\n",
       "  'is',\n",
       "  'a',\n",
       "  '90',\n",
       "  'second',\n",
       "  'video',\n",
       "  'summary',\n",
       "  'of',\n",
       "  'climate',\n",
       "  'change',\n",
       "  'since',\n",
       "  '1850',\n",
       "  'notice',\n",
       "  'a',\n",
       "  'pattern',\n",
       "  'time',\n",
       "  'to',\n",
       "  'treat',\n",
       "  'climatechange',\n",
       "  'like',\n",
       "  'the',\n",
       "  'c'],\n",
       " ['rt',\n",
       "  'thebabita',\n",
       "  'pleasure',\n",
       "  'to',\n",
       "  'brief',\n",
       "  'ldcs',\n",
       "  'ambassadors',\n",
       "  'on',\n",
       "  'climatechange',\n",
       "  'as',\n",
       "  'part',\n",
       "  'of',\n",
       "  'inputs',\n",
       "  'on',\n",
       "  'the',\n",
       "  'road',\n",
       "  'to',\n",
       "  'doha',\n",
       "  '30',\n",
       "  'or',\n",
       "  'us',\n",
       "  '2',\n",
       "  '5b',\n",
       "  'of',\n",
       "  'thegcf',\n",
       "  'fund']]"
      ]
     },
     "execution_count": 11,
     "metadata": {},
     "output_type": "execute_result"
    }
   ],
   "source": [
    "words_in_tweet = [tweet.lower().split() for tweet in all_tweets_no_urls]\n",
    "words_in_tweet[:2]"
   ]
  },
  {
   "cell_type": "code",
   "execution_count": 12,
   "metadata": {},
   "outputs": [
    {
     "data": {
      "text/plain": [
       "[('rt', 760),\n",
       " ('the', 547),\n",
       " ('climatechange', 455),\n",
       " ('a', 429),\n",
       " ('to', 428),\n",
       " ('of', 398),\n",
       " ('is', 338),\n",
       " ('climate', 277),\n",
       " ('and', 253),\n",
       " ('on', 225),\n",
       " ('in', 212),\n",
       " ('geraldkutney', 155),\n",
       " ('that', 144),\n",
       " ('for', 139),\n",
       " ('it', 139)]"
      ]
     },
     "execution_count": 12,
     "metadata": {},
     "output_type": "execute_result"
    }
   ],
   "source": [
    "# List of all words across tweets\n",
    "all_words_no_urls = list(itertools.chain(*words_in_tweet))\n",
    "\n",
    "# Create counter\n",
    "counts_no_urls = collections.Counter(all_words_no_urls)\n",
    "\n",
    "counts_no_urls.most_common(15)"
   ]
  },
  {
   "cell_type": "code",
   "execution_count": 13,
   "metadata": {},
   "outputs": [
    {
     "data": {
      "text/html": [
       "<div>\n",
       "<style scoped>\n",
       "    .dataframe tbody tr th:only-of-type {\n",
       "        vertical-align: middle;\n",
       "    }\n",
       "\n",
       "    .dataframe tbody tr th {\n",
       "        vertical-align: top;\n",
       "    }\n",
       "\n",
       "    .dataframe thead th {\n",
       "        text-align: right;\n",
       "    }\n",
       "</style>\n",
       "<table border=\"1\" class=\"dataframe\">\n",
       "  <thead>\n",
       "    <tr style=\"text-align: right;\">\n",
       "      <th></th>\n",
       "      <th>words</th>\n",
       "      <th>count</th>\n",
       "    </tr>\n",
       "  </thead>\n",
       "  <tbody>\n",
       "    <tr>\n",
       "      <th>0</th>\n",
       "      <td>rt</td>\n",
       "      <td>760</td>\n",
       "    </tr>\n",
       "    <tr>\n",
       "      <th>1</th>\n",
       "      <td>the</td>\n",
       "      <td>547</td>\n",
       "    </tr>\n",
       "    <tr>\n",
       "      <th>2</th>\n",
       "      <td>climatechange</td>\n",
       "      <td>455</td>\n",
       "    </tr>\n",
       "    <tr>\n",
       "      <th>3</th>\n",
       "      <td>a</td>\n",
       "      <td>429</td>\n",
       "    </tr>\n",
       "    <tr>\n",
       "      <th>4</th>\n",
       "      <td>to</td>\n",
       "      <td>428</td>\n",
       "    </tr>\n",
       "    <tr>\n",
       "      <th>5</th>\n",
       "      <td>of</td>\n",
       "      <td>398</td>\n",
       "    </tr>\n",
       "    <tr>\n",
       "      <th>6</th>\n",
       "      <td>is</td>\n",
       "      <td>338</td>\n",
       "    </tr>\n",
       "    <tr>\n",
       "      <th>7</th>\n",
       "      <td>climate</td>\n",
       "      <td>277</td>\n",
       "    </tr>\n",
       "    <tr>\n",
       "      <th>8</th>\n",
       "      <td>and</td>\n",
       "      <td>253</td>\n",
       "    </tr>\n",
       "    <tr>\n",
       "      <th>9</th>\n",
       "      <td>on</td>\n",
       "      <td>225</td>\n",
       "    </tr>\n",
       "    <tr>\n",
       "      <th>10</th>\n",
       "      <td>in</td>\n",
       "      <td>212</td>\n",
       "    </tr>\n",
       "    <tr>\n",
       "      <th>11</th>\n",
       "      <td>geraldkutney</td>\n",
       "      <td>155</td>\n",
       "    </tr>\n",
       "    <tr>\n",
       "      <th>12</th>\n",
       "      <td>that</td>\n",
       "      <td>144</td>\n",
       "    </tr>\n",
       "    <tr>\n",
       "      <th>13</th>\n",
       "      <td>for</td>\n",
       "      <td>139</td>\n",
       "    </tr>\n",
       "    <tr>\n",
       "      <th>14</th>\n",
       "      <td>it</td>\n",
       "      <td>139</td>\n",
       "    </tr>\n",
       "  </tbody>\n",
       "</table>\n",
       "</div>"
      ],
      "text/plain": [
       "            words  count\n",
       "0              rt    760\n",
       "1             the    547\n",
       "2   climatechange    455\n",
       "3               a    429\n",
       "4              to    428\n",
       "5              of    398\n",
       "6              is    338\n",
       "7         climate    277\n",
       "8             and    253\n",
       "9              on    225\n",
       "10             in    212\n",
       "11   geraldkutney    155\n",
       "12           that    144\n",
       "13            for    139\n",
       "14             it    139"
      ]
     },
     "execution_count": 13,
     "metadata": {},
     "output_type": "execute_result"
    }
   ],
   "source": [
    "clean_tweets_no_urls = pd.DataFrame(counts_no_urls.most_common(15),\n",
    "                             columns=['words', 'count'])\n",
    "\n",
    "clean_tweets_no_urls.head(15)"
   ]
  },
  {
   "cell_type": "code",
   "execution_count": 14,
   "metadata": {},
   "outputs": [
    {
     "data": {
      "image/png": "[encoded data removed]",
      "text/plain": [
       "<Figure size 576x576 with 1 Axes>"
      ]
     },
     "metadata": {},
     "output_type": "display_data"
    }
   ],
   "source": [
    "fig, ax = plt.subplots(figsize=(8, 8))\n",
    "\n",
    "# Plot horizontal bar graph\n",
    "clean_tweets_no_urls.sort_values(by='count').plot.barh(x='words',\n",
    "                      y='count',\n",
    "                      ax=ax,\n",
    "                      color=\"purple\")\n",
    "\n",
    "ax.set_title(\"Common Words Found in Tweets (Including All Words)\")\n",
    "\n",
    "plt.show()"
   ]
  },
  {
   "cell_type": "code",
   "execution_count": 15,
   "metadata": {},
   "outputs": [
    {
     "name": "stderr",
     "output_type": "stream",
     "text": [
      "[nltk_data] Downloading package stopwords to\n",
      "[nltk_data]     C:\\Users\\DELL\\AppData\\Roaming\\nltk_data...\n",
      "[nltk_data]   Package stopwords is already up-to-date!\n"
     ]
    },
    {
     "data": {
      "text/plain": [
       "True"
      ]
     },
     "execution_count": 15,
     "metadata": {},
     "output_type": "execute_result"
    }
   ],
   "source": [
    "nltk.download('stopwords')"
   ]
  },
  {
   "cell_type": "code",
   "execution_count": 16,
   "metadata": {},
   "outputs": [
    {
     "data": {
      "text/plain": [
       "['if',\n",
       " 'were',\n",
       " 'yourselves',\n",
       " 'has',\n",
       " 'no',\n",
       " 'being',\n",
       " 'where',\n",
       " 'any',\n",
       " 'each',\n",
       " \"wasn't\",\n",
       " 'what',\n",
       " 'will',\n",
       " 'but',\n",
       " \"you've\",\n",
       " 'while',\n",
       " \"needn't\",\n",
       " 'through',\n",
       " 'o',\n",
       " \"it's\",\n",
       " 'on',\n",
       " 'those',\n",
       " \"shan't\",\n",
       " \"haven't\",\n",
       " 'mightn',\n",
       " 'in',\n",
       " 'over',\n",
       " \"shouldn't\",\n",
       " 'doesn',\n",
       " 'as',\n",
       " 'with',\n",
       " 'have',\n",
       " 'not',\n",
       " 'didn',\n",
       " 'few',\n",
       " 'when',\n",
       " 'was',\n",
       " \"mightn't\",\n",
       " 'me',\n",
       " 'my',\n",
       " 'd',\n",
       " 'm',\n",
       " 'above',\n",
       " 'nor',\n",
       " 'now',\n",
       " 'it',\n",
       " 'and',\n",
       " 'out',\n",
       " 's',\n",
       " 'about',\n",
       " 'ma',\n",
       " 'y',\n",
       " 'then',\n",
       " 'a',\n",
       " 'which',\n",
       " 'do',\n",
       " 'hers',\n",
       " 'further',\n",
       " 'be',\n",
       " 'down',\n",
       " 'all',\n",
       " 'you',\n",
       " \"didn't\",\n",
       " \"she's\",\n",
       " 'been',\n",
       " 'up',\n",
       " 'or',\n",
       " 'ours',\n",
       " 'that',\n",
       " 'myself',\n",
       " 'we',\n",
       " 'should',\n",
       " 'of',\n",
       " 'an',\n",
       " \"you'd\",\n",
       " \"hasn't\",\n",
       " 'same',\n",
       " 'his',\n",
       " 'here',\n",
       " 'so',\n",
       " 't',\n",
       " \"won't\",\n",
       " 'by',\n",
       " 'needn',\n",
       " 'couldn',\n",
       " 'she',\n",
       " 'he',\n",
       " 'll',\n",
       " 'hasn',\n",
       " 'shan',\n",
       " 'weren',\n",
       " 'more',\n",
       " 'again',\n",
       " \"don't\",\n",
       " \"aren't\",\n",
       " 'these',\n",
       " 'doing',\n",
       " 'from',\n",
       " 'because',\n",
       " 'why',\n",
       " 'mustn']"
      ]
     },
     "execution_count": 16,
     "metadata": {},
     "output_type": "execute_result"
    }
   ],
   "source": [
    "stop_words = set(stopwords.words('english'))\n",
    "\n",
    "# View a few words from the set\n",
    "list(stop_words)[0:100]"
   ]
  },
  {
   "cell_type": "code",
   "execution_count": 17,
   "metadata": {},
   "outputs": [
    {
     "data": {
      "text/plain": [
       "['rt',\n",
       " 'thebabita',\n",
       " 'pleasure',\n",
       " 'brief',\n",
       " 'ldcs',\n",
       " 'ambassadors',\n",
       " 'climatechange',\n",
       " 'part',\n",
       " 'inputs',\n",
       " 'road',\n",
       " 'doha',\n",
       " '30',\n",
       " 'us',\n",
       " '2',\n",
       " '5b',\n",
       " 'thegcf',\n",
       " 'fund']"
      ]
     },
     "execution_count": 17,
     "metadata": {},
     "output_type": "execute_result"
    }
   ],
   "source": [
    "tweets_nsw = [[word for word in tweet_words if not word in stop_words]\n",
    "              for tweet_words in words_in_tweet]\n",
    "\n",
    "tweets_nsw[1]"
   ]
  },
  {
   "cell_type": "code",
   "execution_count": 21,
   "metadata": {},
   "outputs": [
    {
     "data": {
      "text/plain": [
       "[('rt', 760),\n",
       " ('climatechange', 455),\n",
       " ('climate', 277),\n",
       " ('geraldkutney', 155),\n",
       " ('change', 102),\n",
       " ('c', 88),\n",
       " ('like', 76),\n",
       " ('time', 75),\n",
       " ('summary', 71),\n",
       " ('since', 70),\n",
       " ('new', 70),\n",
       " ('90', 66),\n",
       " ('second', 66),\n",
       " ('amp', 65),\n",
       " ('mikehudema', 64)]"
      ]
     },
     "execution_count": 21,
     "metadata": {},
     "output_type": "execute_result"
    }
   ],
   "source": [
    "all_words_nsw = list(itertools.chain(*tweets_nsw))\n",
    "\n",
    "counts_nsw = collections.Counter(all_words_nsw)\n",
    "\n",
    "counts_nsw.most_common(15)\n"
   ]
  },
  {
   "cell_type": "code",
   "execution_count": 22,
   "metadata": {},
   "outputs": [
    {
     "data": {
      "image/png": "[encoded data removed]",
      "text/plain": [
       "<Figure size 288x288 with 1 Axes>"
      ]
     },
     "metadata": {},
     "output_type": "display_data"
    }
   ],
   "source": [
    "clean_tweets_nsw = pd.DataFrame(counts_nsw.most_common(15),\n",
    "                             columns=['words', 'count'])\n",
    "\n",
    "fig, ax = plt.subplots(figsize=(4, 4))\n",
    "\n",
    "# Plot horizontal bar graph\n",
    "clean_tweets_nsw.sort_values(by='count').plot.barh(x='words',\n",
    "                      y='count',\n",
    "                      ax=ax,\n",
    "                      color=\"blue\")\n",
    "\n",
    "ax.set_title(\"Common Words Found in Tweets (Without Stop Words)\")\n",
    "\n",
    "plt.show()"
   ]
  },
  {
   "cell_type": "code",
   "execution_count": null,
   "metadata": {},
   "outputs": [],
   "source": []
  }
 ],
 "metadata": {
  "kernelspec": {
   "display_name": "Python 3",
   "language": "python",
   "name": "python3"
  },
  "language_info": {
   "codemirror_mode": {
    "name": "ipython",
    "version": 3
   },
   "file_extension": ".py",
   "mimetype": "text/x-python",
   "name": "python",
   "nbconvert_exporter": "python",
   "pygments_lexer": "ipython3",
   "version": "3.8.8"
  }
 },
 "nbformat": 4,
 "nbformat_minor": 4
}
